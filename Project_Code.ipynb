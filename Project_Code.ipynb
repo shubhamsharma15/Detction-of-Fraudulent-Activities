{
  "nbformat": 4,
  "nbformat_minor": 0,
  "metadata": {
    "colab": {
      "name": "MLProject.ipynb",
      "provenance": [],
      "collapsed_sections": []
    },
    "kernelspec": {
      "name": "python3",
      "display_name": "Python 3"
    },
    "language_info": {
      "name": "python"
    }
  },
  "cells": [
    {
      "cell_type": "markdown",
      "metadata": {
        "id": "ffAhDuOqIClG"
      },
      "source": [
        "\n",
        "\n",
        "1.   \n",
        "2.   List item\n",
        "\n"
      ]
    },
    {
      "cell_type": "code",
      "metadata": {
        "id": "bE-LclVPvB7r"
      },
      "source": [
        "path = '/content/drive/MyDrive/workspace/ML/EnrornProject/'"
      ],
      "execution_count": null,
      "outputs": []
    },
    {
      "cell_type": "code",
      "metadata": {
        "colab": {
          "base_uri": "https://localhost:8080/"
        },
        "id": "C5LevuDMccRq",
        "outputId": "dfc1aae4-22c8-44f5-fc54-25bb8b5daf95"
      },
      "source": [
        "cd $path"
      ],
      "execution_count": null,
      "outputs": [
        {
          "output_type": "stream",
          "text": [
            "/content/drive/MyDrive/workspace/ML/EnrornProject\n"
          ],
          "name": "stdout"
        }
      ]
    },
    {
      "cell_type": "code",
      "metadata": {
        "id": "hXj0VKXDLcuH",
        "colab": {
          "base_uri": "https://localhost:8080/",
          "height": 35
        },
        "outputId": "789a580c-4601-4be0-ede7-289f81cc9fc8"
      },
      "source": [
        "pwd"
      ],
      "execution_count": null,
      "outputs": [
        {
          "output_type": "execute_result",
          "data": {
            "application/vnd.google.colaboratory.intrinsic+json": {
              "type": "string"
            },
            "text/plain": [
              "'/content/drive/MyDrive/workspace/ML/EnrornProject'"
            ]
          },
          "metadata": {
            "tags": []
          },
          "execution_count": 190
        }
      ]
    },
    {
      "cell_type": "code",
      "metadata": {
        "colab": {
          "base_uri": "https://localhost:8080/"
        },
        "id": "hX-3YhRnNfNL",
        "outputId": "70209154-2bc0-4a75-8be1-16e102d7e4d1"
      },
      "source": [
        "import setup\n",
        "import importlib\n",
        "importlib.reload(setup)"
      ],
      "execution_count": null,
      "outputs": [
        {
          "output_type": "execute_result",
          "data": {
            "text/plain": [
              "<module 'setup' from '/content/drive/MyDrive/workspace/ML/EnrornProject/setup.py'>"
            ]
          },
          "metadata": {
            "tags": []
          },
          "execution_count": 191
        }
      ]
    },
    {
      "cell_type": "code",
      "metadata": {
        "id": "kXa2DKdTM-TA"
      },
      "source": [
        "df = setup.GetDataframe('data/emails.csv')"
      ],
      "execution_count": null,
      "outputs": []
    },
    {
      "cell_type": "code",
      "metadata": {
        "colab": {
          "base_uri": "https://localhost:8080/",
          "height": 206
        },
        "id": "CizT2H7eM-PF",
        "outputId": "b6bd2d04-c68f-4c23-b3c0-69999319feba"
      },
      "source": [
        "df.head()"
      ],
      "execution_count": null,
      "outputs": [
        {
          "output_type": "execute_result",
          "data": {
            "text/html": [
              "<div>\n",
              "<style scoped>\n",
              "    .dataframe tbody tr th:only-of-type {\n",
              "        vertical-align: middle;\n",
              "    }\n",
              "\n",
              "    .dataframe tbody tr th {\n",
              "        vertical-align: top;\n",
              "    }\n",
              "\n",
              "    .dataframe thead th {\n",
              "        text-align: right;\n",
              "    }\n",
              "</style>\n",
              "<table border=\"1\" class=\"dataframe\">\n",
              "  <thead>\n",
              "    <tr style=\"text-align: right;\">\n",
              "      <th></th>\n",
              "      <th>file</th>\n",
              "      <th>message</th>\n",
              "    </tr>\n",
              "  </thead>\n",
              "  <tbody>\n",
              "    <tr>\n",
              "      <th>0</th>\n",
              "      <td>allen-p/_sent_mail/1.</td>\n",
              "      <td>Message-ID: &lt;18782981.1075855378110.JavaMail.e...</td>\n",
              "    </tr>\n",
              "    <tr>\n",
              "      <th>1</th>\n",
              "      <td>allen-p/_sent_mail/10.</td>\n",
              "      <td>Message-ID: &lt;15464986.1075855378456.JavaMail.e...</td>\n",
              "    </tr>\n",
              "    <tr>\n",
              "      <th>2</th>\n",
              "      <td>allen-p/_sent_mail/100.</td>\n",
              "      <td>Message-ID: &lt;24216240.1075855687451.JavaMail.e...</td>\n",
              "    </tr>\n",
              "    <tr>\n",
              "      <th>3</th>\n",
              "      <td>allen-p/_sent_mail/1000.</td>\n",
              "      <td>Message-ID: &lt;13505866.1075863688222.JavaMail.e...</td>\n",
              "    </tr>\n",
              "    <tr>\n",
              "      <th>4</th>\n",
              "      <td>allen-p/_sent_mail/1001.</td>\n",
              "      <td>Message-ID: &lt;30922949.1075863688243.JavaMail.e...</td>\n",
              "    </tr>\n",
              "  </tbody>\n",
              "</table>\n",
              "</div>"
            ],
            "text/plain": [
              "                       file                                            message\n",
              "0     allen-p/_sent_mail/1.  Message-ID: <18782981.1075855378110.JavaMail.e...\n",
              "1    allen-p/_sent_mail/10.  Message-ID: <15464986.1075855378456.JavaMail.e...\n",
              "2   allen-p/_sent_mail/100.  Message-ID: <24216240.1075855687451.JavaMail.e...\n",
              "3  allen-p/_sent_mail/1000.  Message-ID: <13505866.1075863688222.JavaMail.e...\n",
              "4  allen-p/_sent_mail/1001.  Message-ID: <30922949.1075863688243.JavaMail.e..."
            ]
          },
          "metadata": {
            "tags": []
          },
          "execution_count": 193
        }
      ]
    },
    {
      "cell_type": "code",
      "metadata": {
        "colab": {
          "base_uri": "https://localhost:8080/"
        },
        "id": "WqcaoD8kM-Jp",
        "outputId": "b03e03f6-5c74-45f2-c08f-327513398f48"
      },
      "source": [
        "df.shape"
      ],
      "execution_count": null,
      "outputs": [
        {
          "output_type": "execute_result",
          "data": {
            "text/plain": [
              "(517401, 2)"
            ]
          },
          "metadata": {
            "tags": []
          },
          "execution_count": 194
        }
      ]
    },
    {
      "cell_type": "markdown",
      "metadata": {
        "id": "R3bnmm_4PWh5"
      },
      "source": [
        "Let's check the structure of emails"
      ]
    },
    {
      "cell_type": "code",
      "metadata": {
        "colab": {
          "base_uri": "https://localhost:8080/"
        },
        "id": "R0pfWhxOPV9t",
        "outputId": "0b2382ed-9016-42b1-c280-2a79c4680dd2"
      },
      "source": [
        "print(df['message'][100])"
      ],
      "execution_count": null,
      "outputs": [
        {
          "output_type": "stream",
          "text": [
            "Message-ID: <15940494.1075855689309.JavaMail.evans@thyme>\n",
            "Date: Wed, 16 Aug 2000 05:35:00 -0700 (PDT)\n",
            "From: phillip.allen@enron.com\n",
            "To: cooper.richey@enron.com\n",
            "Subject: Re:\n",
            "Mime-Version: 1.0\n",
            "Content-Type: text/plain; charset=us-ascii\n",
            "Content-Transfer-Encoding: 7bit\n",
            "X-From: Phillip K Allen\n",
            "X-To: Cooper Richey\n",
            "X-cc: \n",
            "X-bcc: \n",
            "X-Folder: \\Phillip_Allen_Dec2000\\Notes Folders\\'sent mail\n",
            "X-Origin: Allen-P\n",
            "X-FileName: pallen.nsf\n",
            "\n",
            "I tried the new address but I don't have access.  also, what do I need to \n",
            "enter under domain?\n"
          ],
          "name": "stdout"
        }
      ]
    },
    {
      "cell_type": "code",
      "metadata": {
        "id": "ulR2hxYgagsM"
      },
      "source": [
        "def Getmails(message):\n",
        "  strs = message.split(\"\\n\")\n",
        "  msg = \" \".join([s for s in strs if \":\" not in s])\n",
        "  getpair = lambda m: m.split(':', 1)\n",
        "  dic = {}\n",
        "  for ab,cd in [getpair(s) for s in strs if ':' in s]:\n",
        "    if ab not in dic:\n",
        "      dic[ab] = cd.strip()\n",
        "  dic['text'] = msg + dic['Subject']\n",
        "  def getAt(key):\n",
        "    if key not in dic:\n",
        "      return 'null'\n",
        "    return dic[key]\n",
        "  return getAt\n",
        "  "
      ],
      "execution_count": null,
      "outputs": []
    },
    {
      "cell_type": "code",
      "metadata": {
        "id": "x8xeSE6Suuak"
      },
      "source": [
        "df['From'] = df['message'].apply(lambda x: Getmails(x)('From'))"
      ],
      "execution_count": null,
      "outputs": []
    },
    {
      "cell_type": "code",
      "metadata": {
        "id": "wH0bdng752ck"
      },
      "source": [
        "df['To'] = df['message'].apply(lambda x: Getmails(x)('To'))"
      ],
      "execution_count": null,
      "outputs": []
    },
    {
      "cell_type": "code",
      "metadata": {
        "id": "RVqPebngCJK8"
      },
      "source": [
        "df['text'] = df['message'].apply(lambda x: Getmails(x)('text'))"
      ],
      "execution_count": null,
      "outputs": []
    },
    {
      "cell_type": "code",
      "metadata": {
        "colab": {
          "base_uri": "https://localhost:8080/",
          "height": 206
        },
        "id": "MNDmM1gU5psx",
        "outputId": "ccf16e7c-6897-418e-e002-047d1d66948e"
      },
      "source": [
        "df.head()"
      ],
      "execution_count": null,
      "outputs": [
        {
          "output_type": "execute_result",
          "data": {
            "text/html": [
              "<div>\n",
              "<style scoped>\n",
              "    .dataframe tbody tr th:only-of-type {\n",
              "        vertical-align: middle;\n",
              "    }\n",
              "\n",
              "    .dataframe tbody tr th {\n",
              "        vertical-align: top;\n",
              "    }\n",
              "\n",
              "    .dataframe thead th {\n",
              "        text-align: right;\n",
              "    }\n",
              "</style>\n",
              "<table border=\"1\" class=\"dataframe\">\n",
              "  <thead>\n",
              "    <tr style=\"text-align: right;\">\n",
              "      <th></th>\n",
              "      <th>file</th>\n",
              "      <th>message</th>\n",
              "      <th>From</th>\n",
              "      <th>To</th>\n",
              "      <th>text</th>\n",
              "    </tr>\n",
              "  </thead>\n",
              "  <tbody>\n",
              "    <tr>\n",
              "      <th>0</th>\n",
              "      <td>allen-p/_sent_mail/1.</td>\n",
              "      <td>Message-ID: &lt;18782981.1075855378110.JavaMail.e...</td>\n",
              "      <td>phillip.allen@enron.com</td>\n",
              "      <td>tim.belden@enron.com</td>\n",
              "      <td>Here is our forecast</td>\n",
              "    </tr>\n",
              "    <tr>\n",
              "      <th>1</th>\n",
              "      <td>allen-p/_sent_mail/10.</td>\n",
              "      <td>Message-ID: &lt;15464986.1075855378456.JavaMail.e...</td>\n",
              "      <td>phillip.allen@enron.com</td>\n",
              "      <td>john.lavorato@enron.com</td>\n",
              "      <td>Traveling to have a business meeting takes th...</td>\n",
              "    </tr>\n",
              "    <tr>\n",
              "      <th>2</th>\n",
              "      <td>allen-p/_sent_mail/100.</td>\n",
              "      <td>Message-ID: &lt;24216240.1075855687451.JavaMail.e...</td>\n",
              "      <td>phillip.allen@enron.com</td>\n",
              "      <td>leah.arsdall@enron.com</td>\n",
              "      <td>test successful.  way to go!!!Re: test</td>\n",
              "    </tr>\n",
              "    <tr>\n",
              "      <th>3</th>\n",
              "      <td>allen-p/_sent_mail/1000.</td>\n",
              "      <td>Message-ID: &lt;13505866.1075863688222.JavaMail.e...</td>\n",
              "      <td>phillip.allen@enron.com</td>\n",
              "      <td>randall.gay@enron.com</td>\n",
              "      <td>Randy,   Can you send me a schedule of the sa...</td>\n",
              "    </tr>\n",
              "    <tr>\n",
              "      <th>4</th>\n",
              "      <td>allen-p/_sent_mail/1001.</td>\n",
              "      <td>Message-ID: &lt;30922949.1075863688243.JavaMail.e...</td>\n",
              "      <td>phillip.allen@enron.com</td>\n",
              "      <td>greg.piper@enron.com</td>\n",
              "      <td>Re: Hello</td>\n",
              "    </tr>\n",
              "  </tbody>\n",
              "</table>\n",
              "</div>"
            ],
            "text/plain": [
              "                       file  ...                                               text\n",
              "0     allen-p/_sent_mail/1.  ...                            Here is our forecast   \n",
              "1    allen-p/_sent_mail/10.  ...   Traveling to have a business meeting takes th...\n",
              "2   allen-p/_sent_mail/100.  ...             test successful.  way to go!!!Re: test\n",
              "3  allen-p/_sent_mail/1000.  ...   Randy,   Can you send me a schedule of the sa...\n",
              "4  allen-p/_sent_mail/1001.  ...                                          Re: Hello\n",
              "\n",
              "[5 rows x 5 columns]"
            ]
          },
          "metadata": {
            "tags": []
          },
          "execution_count": 13
        }
      ]
    },
    {
      "cell_type": "code",
      "metadata": {
        "colab": {
          "base_uri": "https://localhost:8080/",
          "height": 206
        },
        "id": "ytwfPhLCL9NJ",
        "outputId": "448afd13-48b3-4cc5-93fd-456db4cbb767"
      },
      "source": [
        "df = df.drop(columns=['message'])\n",
        "df.head()"
      ],
      "execution_count": null,
      "outputs": [
        {
          "output_type": "execute_result",
          "data": {
            "text/html": [
              "<div>\n",
              "<style scoped>\n",
              "    .dataframe tbody tr th:only-of-type {\n",
              "        vertical-align: middle;\n",
              "    }\n",
              "\n",
              "    .dataframe tbody tr th {\n",
              "        vertical-align: top;\n",
              "    }\n",
              "\n",
              "    .dataframe thead th {\n",
              "        text-align: right;\n",
              "    }\n",
              "</style>\n",
              "<table border=\"1\" class=\"dataframe\">\n",
              "  <thead>\n",
              "    <tr style=\"text-align: right;\">\n",
              "      <th></th>\n",
              "      <th>file</th>\n",
              "      <th>From</th>\n",
              "      <th>To</th>\n",
              "      <th>text</th>\n",
              "    </tr>\n",
              "  </thead>\n",
              "  <tbody>\n",
              "    <tr>\n",
              "      <th>0</th>\n",
              "      <td>allen-p/_sent_mail/1.</td>\n",
              "      <td>phillip.allen@enron.com</td>\n",
              "      <td>tim.belden@enron.com</td>\n",
              "      <td>Here is our forecast</td>\n",
              "    </tr>\n",
              "    <tr>\n",
              "      <th>1</th>\n",
              "      <td>allen-p/_sent_mail/10.</td>\n",
              "      <td>phillip.allen@enron.com</td>\n",
              "      <td>john.lavorato@enron.com</td>\n",
              "      <td>Traveling to have a business meeting takes th...</td>\n",
              "    </tr>\n",
              "    <tr>\n",
              "      <th>2</th>\n",
              "      <td>allen-p/_sent_mail/100.</td>\n",
              "      <td>phillip.allen@enron.com</td>\n",
              "      <td>leah.arsdall@enron.com</td>\n",
              "      <td>test successful.  way to go!!!Re: test</td>\n",
              "    </tr>\n",
              "    <tr>\n",
              "      <th>3</th>\n",
              "      <td>allen-p/_sent_mail/1000.</td>\n",
              "      <td>phillip.allen@enron.com</td>\n",
              "      <td>randall.gay@enron.com</td>\n",
              "      <td>Randy,   Can you send me a schedule of the sa...</td>\n",
              "    </tr>\n",
              "    <tr>\n",
              "      <th>4</th>\n",
              "      <td>allen-p/_sent_mail/1001.</td>\n",
              "      <td>phillip.allen@enron.com</td>\n",
              "      <td>greg.piper@enron.com</td>\n",
              "      <td>Re: Hello</td>\n",
              "    </tr>\n",
              "  </tbody>\n",
              "</table>\n",
              "</div>"
            ],
            "text/plain": [
              "                       file  ...                                               text\n",
              "0     allen-p/_sent_mail/1.  ...                            Here is our forecast   \n",
              "1    allen-p/_sent_mail/10.  ...   Traveling to have a business meeting takes th...\n",
              "2   allen-p/_sent_mail/100.  ...             test successful.  way to go!!!Re: test\n",
              "3  allen-p/_sent_mail/1000.  ...   Randy,   Can you send me a schedule of the sa...\n",
              "4  allen-p/_sent_mail/1001.  ...                                          Re: Hello\n",
              "\n",
              "[5 rows x 4 columns]"
            ]
          },
          "metadata": {
            "tags": []
          },
          "execution_count": 14
        }
      ]
    },
    {
      "cell_type": "code",
      "metadata": {
        "id": "PsrsfxcA8oOp"
      },
      "source": [
        "from gensim.parsing.preprocessing import preprocess_string, preprocess_documents \n",
        "import numpy as np "
      ],
      "execution_count": null,
      "outputs": []
    },
    {
      "cell_type": "markdown",
      "metadata": {
        "id": "qRwiUi9JK4aL"
      },
      "source": [
        "we need to create a function to parse the mails"
      ]
    },
    {
      "cell_type": "code",
      "metadata": {
        "id": "tCfqbREIM-Eb"
      },
      "source": [
        "import email"
      ],
      "execution_count": null,
      "outputs": []
    },
    {
      "cell_type": "markdown",
      "metadata": {
        "id": "p_ZPPbBS0bbF"
      },
      "source": [
        "# financial data"
      ]
    },
    {
      "cell_type": "code",
      "metadata": {
        "id": "G2alSsKX8FDj"
      },
      "source": [
        "import pickle\n",
        "import pandas as pd\n",
        "import numpy as np"
      ],
      "execution_count": null,
      "outputs": []
    },
    {
      "cell_type": "code",
      "metadata": {
        "id": "6rDhfrWa1yKQ"
      },
      "source": [
        "path = \"/content/drive/MyDrive/workspace/ML/EnrornProject/\""
      ],
      "execution_count": null,
      "outputs": []
    },
    {
      "cell_type": "code",
      "metadata": {
        "id": "N4lUp5aB0eRq"
      },
      "source": [
        "def fixData(path, newfilepath):\n",
        "  content = ''\n",
        "  outsize = 0\n",
        "  with open(path, 'rb') as infile:\n",
        "    content = infile.read()\n",
        "\n",
        "  with open(newfilepath, 'wb') as output:\n",
        "    for line in content.splitlines():\n",
        "      outsize += len(line) + 1\n",
        "      output.write(line + str.encode('\\n'))\n",
        "  \n",
        "fixData(f'{path}data/financial_data.pkl', f'{path}data/poi_data.pkl')\n"
      ],
      "execution_count": null,
      "outputs": []
    },
    {
      "cell_type": "code",
      "metadata": {
        "id": "4OnBEPT_z6fM"
      },
      "source": [
        "def load_financialData(path):\n",
        "  data_dict = pickle.load(open(path, \"rb\"))\n",
        "  df = pd.DataFrame.from_dict(data_dict, orient='index')\n",
        "  df = df.replace('NaN', np.nan)\n",
        "  return df"
      ],
      "execution_count": null,
      "outputs": []
    },
    {
      "cell_type": "code",
      "metadata": {
        "id": "oMppbpgv7jHj"
      },
      "source": [
        "fn_df = load_financialData(f'{path}data/poi_data.pkl')"
      ],
      "execution_count": null,
      "outputs": []
    },
    {
      "cell_type": "code",
      "metadata": {
        "id": "3ctDPNdJy4r9"
      },
      "source": [
        ""
      ],
      "execution_count": null,
      "outputs": []
    },
    {
      "cell_type": "code",
      "metadata": {
        "colab": {
          "base_uri": "https://localhost:8080/",
          "height": 330
        },
        "id": "j4vtXe9v8BGn",
        "outputId": "403bb8c2-1aba-4181-a2a7-6ef1a96164cb"
      },
      "source": [
        "fn_df.head()"
      ],
      "execution_count": null,
      "outputs": [
        {
          "output_type": "execute_result",
          "data": {
            "text/html": [
              "<div>\n",
              "<style scoped>\n",
              "    .dataframe tbody tr th:only-of-type {\n",
              "        vertical-align: middle;\n",
              "    }\n",
              "\n",
              "    .dataframe tbody tr th {\n",
              "        vertical-align: top;\n",
              "    }\n",
              "\n",
              "    .dataframe thead th {\n",
              "        text-align: right;\n",
              "    }\n",
              "</style>\n",
              "<table border=\"1\" class=\"dataframe\">\n",
              "  <thead>\n",
              "    <tr style=\"text-align: right;\">\n",
              "      <th></th>\n",
              "      <th>salary</th>\n",
              "      <th>to_messages</th>\n",
              "      <th>deferral_payments</th>\n",
              "      <th>total_payments</th>\n",
              "      <th>loan_advances</th>\n",
              "      <th>bonus</th>\n",
              "      <th>email_address</th>\n",
              "      <th>restricted_stock_deferred</th>\n",
              "      <th>deferred_income</th>\n",
              "      <th>total_stock_value</th>\n",
              "      <th>expenses</th>\n",
              "      <th>from_poi_to_this_person</th>\n",
              "      <th>exercised_stock_options</th>\n",
              "      <th>from_messages</th>\n",
              "      <th>other</th>\n",
              "      <th>from_this_person_to_poi</th>\n",
              "      <th>poi</th>\n",
              "      <th>long_term_incentive</th>\n",
              "      <th>shared_receipt_with_poi</th>\n",
              "      <th>restricted_stock</th>\n",
              "      <th>director_fees</th>\n",
              "    </tr>\n",
              "  </thead>\n",
              "  <tbody>\n",
              "    <tr>\n",
              "      <th>METTS MARK</th>\n",
              "      <td>365788.0</td>\n",
              "      <td>807.0</td>\n",
              "      <td>NaN</td>\n",
              "      <td>1061827.0</td>\n",
              "      <td>NaN</td>\n",
              "      <td>600000.0</td>\n",
              "      <td>mark.metts@enron.com</td>\n",
              "      <td>NaN</td>\n",
              "      <td>NaN</td>\n",
              "      <td>585062.0</td>\n",
              "      <td>94299.0</td>\n",
              "      <td>38.0</td>\n",
              "      <td>NaN</td>\n",
              "      <td>29.0</td>\n",
              "      <td>1740.0</td>\n",
              "      <td>1.0</td>\n",
              "      <td>False</td>\n",
              "      <td>NaN</td>\n",
              "      <td>702.0</td>\n",
              "      <td>585062.0</td>\n",
              "      <td>NaN</td>\n",
              "    </tr>\n",
              "    <tr>\n",
              "      <th>BAXTER JOHN C</th>\n",
              "      <td>267102.0</td>\n",
              "      <td>NaN</td>\n",
              "      <td>1295738.0</td>\n",
              "      <td>5634343.0</td>\n",
              "      <td>NaN</td>\n",
              "      <td>1200000.0</td>\n",
              "      <td>NaN</td>\n",
              "      <td>NaN</td>\n",
              "      <td>-1386055.0</td>\n",
              "      <td>10623258.0</td>\n",
              "      <td>11200.0</td>\n",
              "      <td>NaN</td>\n",
              "      <td>6680544.0</td>\n",
              "      <td>NaN</td>\n",
              "      <td>2660303.0</td>\n",
              "      <td>NaN</td>\n",
              "      <td>False</td>\n",
              "      <td>1586055.0</td>\n",
              "      <td>NaN</td>\n",
              "      <td>3942714.0</td>\n",
              "      <td>NaN</td>\n",
              "    </tr>\n",
              "    <tr>\n",
              "      <th>ELLIOTT STEVEN</th>\n",
              "      <td>170941.0</td>\n",
              "      <td>NaN</td>\n",
              "      <td>NaN</td>\n",
              "      <td>211725.0</td>\n",
              "      <td>NaN</td>\n",
              "      <td>350000.0</td>\n",
              "      <td>steven.elliott@enron.com</td>\n",
              "      <td>NaN</td>\n",
              "      <td>-400729.0</td>\n",
              "      <td>6678735.0</td>\n",
              "      <td>78552.0</td>\n",
              "      <td>NaN</td>\n",
              "      <td>4890344.0</td>\n",
              "      <td>NaN</td>\n",
              "      <td>12961.0</td>\n",
              "      <td>NaN</td>\n",
              "      <td>False</td>\n",
              "      <td>NaN</td>\n",
              "      <td>NaN</td>\n",
              "      <td>1788391.0</td>\n",
              "      <td>NaN</td>\n",
              "    </tr>\n",
              "    <tr>\n",
              "      <th>CORDES WILLIAM R</th>\n",
              "      <td>NaN</td>\n",
              "      <td>764.0</td>\n",
              "      <td>NaN</td>\n",
              "      <td>NaN</td>\n",
              "      <td>NaN</td>\n",
              "      <td>NaN</td>\n",
              "      <td>bill.cordes@enron.com</td>\n",
              "      <td>NaN</td>\n",
              "      <td>NaN</td>\n",
              "      <td>1038185.0</td>\n",
              "      <td>NaN</td>\n",
              "      <td>10.0</td>\n",
              "      <td>651850.0</td>\n",
              "      <td>12.0</td>\n",
              "      <td>NaN</td>\n",
              "      <td>0.0</td>\n",
              "      <td>False</td>\n",
              "      <td>NaN</td>\n",
              "      <td>58.0</td>\n",
              "      <td>386335.0</td>\n",
              "      <td>NaN</td>\n",
              "    </tr>\n",
              "    <tr>\n",
              "      <th>HANNON KEVIN P</th>\n",
              "      <td>243293.0</td>\n",
              "      <td>1045.0</td>\n",
              "      <td>NaN</td>\n",
              "      <td>288682.0</td>\n",
              "      <td>NaN</td>\n",
              "      <td>1500000.0</td>\n",
              "      <td>kevin.hannon@enron.com</td>\n",
              "      <td>NaN</td>\n",
              "      <td>-3117011.0</td>\n",
              "      <td>6391065.0</td>\n",
              "      <td>34039.0</td>\n",
              "      <td>32.0</td>\n",
              "      <td>5538001.0</td>\n",
              "      <td>32.0</td>\n",
              "      <td>11350.0</td>\n",
              "      <td>21.0</td>\n",
              "      <td>True</td>\n",
              "      <td>1617011.0</td>\n",
              "      <td>1035.0</td>\n",
              "      <td>853064.0</td>\n",
              "      <td>NaN</td>\n",
              "    </tr>\n",
              "  </tbody>\n",
              "</table>\n",
              "</div>"
            ],
            "text/plain": [
              "                    salary  to_messages  ...  restricted_stock  director_fees\n",
              "METTS MARK        365788.0        807.0  ...          585062.0            NaN\n",
              "BAXTER JOHN C     267102.0          NaN  ...         3942714.0            NaN\n",
              "ELLIOTT STEVEN    170941.0          NaN  ...         1788391.0            NaN\n",
              "CORDES WILLIAM R       NaN        764.0  ...          386335.0            NaN\n",
              "HANNON KEVIN P    243293.0       1045.0  ...          853064.0            NaN\n",
              "\n",
              "[5 rows x 21 columns]"
            ]
          },
          "metadata": {
            "tags": []
          },
          "execution_count": 21
        }
      ]
    },
    {
      "cell_type": "code",
      "metadata": {
        "colab": {
          "base_uri": "https://localhost:8080/"
        },
        "id": "aRHBg8gdA_M1",
        "outputId": "dc7e912e-05d9-4798-e934-ae0d7667da8f"
      },
      "source": [
        "fn_df.info()"
      ],
      "execution_count": null,
      "outputs": [
        {
          "output_type": "stream",
          "text": [
            "<class 'pandas.core.frame.DataFrame'>\n",
            "Index: 146 entries, METTS MARK to GLISAN JR BEN F\n",
            "Data columns (total 21 columns):\n",
            " #   Column                     Non-Null Count  Dtype  \n",
            "---  ------                     --------------  -----  \n",
            " 0   salary                     95 non-null     float64\n",
            " 1   to_messages                86 non-null     float64\n",
            " 2   deferral_payments          39 non-null     float64\n",
            " 3   total_payments             125 non-null    float64\n",
            " 4   loan_advances              4 non-null      float64\n",
            " 5   bonus                      82 non-null     float64\n",
            " 6   email_address              111 non-null    object \n",
            " 7   restricted_stock_deferred  18 non-null     float64\n",
            " 8   deferred_income            49 non-null     float64\n",
            " 9   total_stock_value          126 non-null    float64\n",
            " 10  expenses                   95 non-null     float64\n",
            " 11  from_poi_to_this_person    86 non-null     float64\n",
            " 12  exercised_stock_options    102 non-null    float64\n",
            " 13  from_messages              86 non-null     float64\n",
            " 14  other                      93 non-null     float64\n",
            " 15  from_this_person_to_poi    86 non-null     float64\n",
            " 16  poi                        146 non-null    bool   \n",
            " 17  long_term_incentive        66 non-null     float64\n",
            " 18  shared_receipt_with_poi    86 non-null     float64\n",
            " 19  restricted_stock           110 non-null    float64\n",
            " 20  director_fees              17 non-null     float64\n",
            "dtypes: bool(1), float64(19), object(1)\n",
            "memory usage: 24.1+ KB\n"
          ],
          "name": "stdout"
        }
      ]
    },
    {
      "cell_type": "markdown",
      "metadata": {
        "id": "ztn7kA3ogcAp"
      },
      "source": [
        "# **Exploratory Data Analysis**"
      ]
    },
    {
      "cell_type": "code",
      "metadata": {
        "id": "BLjY69cKg7IH"
      },
      "source": [
        "import seaborn as sns"
      ],
      "execution_count": null,
      "outputs": []
    },
    {
      "cell_type": "markdown",
      "metadata": {
        "id": "o-kqq9DdguOQ"
      },
      "source": [
        "## Categorical Column"
      ]
    },
    {
      "cell_type": "code",
      "metadata": {
        "colab": {
          "base_uri": "https://localhost:8080/",
          "height": 350
        },
        "id": "bHlkyEO-bvaj",
        "outputId": "0241e431-d401-4d73-be3a-89ea86860e74"
      },
      "source": [
        "sns.countplot(fn_df['poi'],legend='auto')\n"
      ],
      "execution_count": null,
      "outputs": [
        {
          "output_type": "stream",
          "text": [
            "/usr/local/lib/python3.7/dist-packages/seaborn/_decorators.py:43: FutureWarning: Pass the following variable as a keyword arg: x. From version 0.12, the only valid positional argument will be `data`, and passing other arguments without an explicit keyword will result in an error or misinterpretation.\n",
            "  FutureWarning\n"
          ],
          "name": "stderr"
        },
        {
          "output_type": "execute_result",
          "data": {
            "text/plain": [
              "<matplotlib.axes._subplots.AxesSubplot at 0x7fecf293e4d0>"
            ]
          },
          "metadata": {
            "tags": []
          },
          "execution_count": 44
        },
        {
          "output_type": "display_data",
          "data": {
            "image/png": "[encoded data removed]",
            "text/plain": [
              "<Figure size 432x288 with 1 Axes>"
            ]
          },
          "metadata": {
            "tags": [],
            "needs_background": "light"
          }
        }
      ]
    },
    {
      "cell_type": "markdown",
      "metadata": {
        "id": "omgJFuidicNp"
      },
      "source": [
        "## Numerical Column "
      ]
    },
    {
      "cell_type": "code",
      "metadata": {
        "colab": {
          "base_uri": "https://localhost:8080/",
          "height": 361
        },
        "id": "3y9IT4QCdC4h",
        "outputId": "6ddf3777-6416-4fc6-dcd1-139006e63599"
      },
      "source": [
        "sns.distplot(fn_df['salary'])"
      ],
      "execution_count": null,
      "outputs": [
        {
          "output_type": "stream",
          "text": [
            "/usr/local/lib/python3.7/dist-packages/seaborn/distributions.py:2557: FutureWarning: `distplot` is a deprecated function and will be removed in a future version. Please adapt your code to use either `displot` (a figure-level function with similar flexibility) or `histplot` (an axes-level function for histograms).\n",
            "  warnings.warn(msg, FutureWarning)\n"
          ],
          "name": "stderr"
        },
        {
          "output_type": "execute_result",
          "data": {
            "text/plain": [
              "<matplotlib.axes._subplots.AxesSubplot at 0x7fed042d6850>"
            ]
          },
          "metadata": {
            "tags": []
          },
          "execution_count": 11
        },
        {
          "output_type": "display_data",
          "data": {
            "image/png": "[encoded data removed]",
            "text/plain": [
              "<Figure size 432x288 with 1 Axes>"
            ]
          },
          "metadata": {
            "tags": [],
            "needs_background": "light"
          }
        }
      ]
    },
    {
      "cell_type": "code",
      "metadata": {
        "colab": {
          "base_uri": "https://localhost:8080/",
          "height": 361
        },
        "id": "i5ctMxe2dDW1",
        "outputId": "56ee01af-4012-4214-a2d9-c1f30b09a14a"
      },
      "source": [
        "sns.distplot(fn_df['bonus'])"
      ],
      "execution_count": null,
      "outputs": [
        {
          "output_type": "stream",
          "text": [
            "/usr/local/lib/python3.7/dist-packages/seaborn/distributions.py:2557: FutureWarning: `distplot` is a deprecated function and will be removed in a future version. Please adapt your code to use either `displot` (a figure-level function with similar flexibility) or `histplot` (an axes-level function for histograms).\n",
            "  warnings.warn(msg, FutureWarning)\n"
          ],
          "name": "stderr"
        },
        {
          "output_type": "execute_result",
          "data": {
            "text/plain": [
              "<matplotlib.axes._subplots.AxesSubplot at 0x7fed01ee1410>"
            ]
          },
          "metadata": {
            "tags": []
          },
          "execution_count": 12
        },
        {
          "output_type": "display_data",
          "data": {
            "image/png": "[encoded data removed]",
            "text/plain": [
              "<Figure size 432x288 with 1 Axes>"
            ]
          },
          "metadata": {
            "tags": [],
            "needs_background": "light"
          }
        }
      ]
    },
    {
      "cell_type": "code",
      "metadata": {
        "colab": {
          "base_uri": "https://localhost:8080/",
          "height": 362
        },
        "id": "r6LgyH7beLF_",
        "outputId": "c0e484fe-e4cc-4654-9b75-2ab2afe39c91"
      },
      "source": [
        "sns.distplot(fn_df['deferral_payments'])"
      ],
      "execution_count": null,
      "outputs": [
        {
          "output_type": "stream",
          "text": [
            "/usr/local/lib/python3.7/dist-packages/seaborn/distributions.py:2557: FutureWarning: `distplot` is a deprecated function and will be removed in a future version. Please adapt your code to use either `displot` (a figure-level function with similar flexibility) or `histplot` (an axes-level function for histograms).\n",
            "  warnings.warn(msg, FutureWarning)\n"
          ],
          "name": "stderr"
        },
        {
          "output_type": "execute_result",
          "data": {
            "text/plain": [
              "<matplotlib.axes._subplots.AxesSubplot at 0x7fed01dfae90>"
            ]
          },
          "metadata": {
            "tags": []
          },
          "execution_count": 13
        },
        {
          "output_type": "display_data",
          "data": {
            "image/png": "[encoded data removed]",
            "text/plain": [
              "<Figure size 432x288 with 1 Axes>"
            ]
          },
          "metadata": {
            "tags": [],
            "needs_background": "light"
          }
        }
      ]
    },
    {
      "cell_type": "code",
      "metadata": {
        "colab": {
          "base_uri": "https://localhost:8080/",
          "height": 362
        },
        "id": "hDE7d4tMeTF-",
        "outputId": "2a51631f-2563-44ad-e792-21450b4a7314"
      },
      "source": [
        "sns.distplot(fn_df['deferred_income'])"
      ],
      "execution_count": null,
      "outputs": [
        {
          "output_type": "stream",
          "text": [
            "/usr/local/lib/python3.7/dist-packages/seaborn/distributions.py:2557: FutureWarning: `distplot` is a deprecated function and will be removed in a future version. Please adapt your code to use either `displot` (a figure-level function with similar flexibility) or `histplot` (an axes-level function for histograms).\n",
            "  warnings.warn(msg, FutureWarning)\n"
          ],
          "name": "stderr"
        },
        {
          "output_type": "execute_result",
          "data": {
            "text/plain": [
              "<matplotlib.axes._subplots.AxesSubplot at 0x7fed01d59210>"
            ]
          },
          "metadata": {
            "tags": []
          },
          "execution_count": 14
        },
        {
          "output_type": "display_data",
          "data": {
            "image/png": "[encoded data removed]",
            "text/plain": [
              "<Figure size 432x288 with 1 Axes>"
            ]
          },
          "metadata": {
            "tags": [],
            "needs_background": "light"
          }
        }
      ]
    },
    {
      "cell_type": "code",
      "metadata": {
        "colab": {
          "base_uri": "https://localhost:8080/",
          "height": 362
        },
        "id": "IIIk4rXQeUOD",
        "outputId": "92b4f1a5-bb0e-45d5-e2db-cefe60a719b5"
      },
      "source": [
        "sns.distplot(fn_df['exercised_stock_options'])"
      ],
      "execution_count": null,
      "outputs": [
        {
          "output_type": "stream",
          "text": [
            "/usr/local/lib/python3.7/dist-packages/seaborn/distributions.py:2557: FutureWarning: `distplot` is a deprecated function and will be removed in a future version. Please adapt your code to use either `displot` (a figure-level function with similar flexibility) or `histplot` (an axes-level function for histograms).\n",
            "  warnings.warn(msg, FutureWarning)\n"
          ],
          "name": "stderr"
        },
        {
          "output_type": "execute_result",
          "data": {
            "text/plain": [
              "<matplotlib.axes._subplots.AxesSubplot at 0x7fed01ba2890>"
            ]
          },
          "metadata": {
            "tags": []
          },
          "execution_count": 16
        },
        {
          "output_type": "display_data",
          "data": {
            "image/png": "[encoded data removed]",
            "text/plain": [
              "<Figure size 432x288 with 1 Axes>"
            ]
          },
          "metadata": {
            "tags": [],
            "needs_background": "light"
          }
        }
      ]
    },
    {
      "cell_type": "code",
      "metadata": {
        "colab": {
          "base_uri": "https://localhost:8080/",
          "height": 361
        },
        "id": "8nuGMx05eUm6",
        "outputId": "54e61700-537c-47a4-85cc-fe1390b33c94"
      },
      "source": [
        "sns.distplot(fn_df['expenses'])"
      ],
      "execution_count": null,
      "outputs": [
        {
          "output_type": "stream",
          "text": [
            "/usr/local/lib/python3.7/dist-packages/seaborn/distributions.py:2557: FutureWarning: `distplot` is a deprecated function and will be removed in a future version. Please adapt your code to use either `displot` (a figure-level function with similar flexibility) or `histplot` (an axes-level function for histograms).\n",
            "  warnings.warn(msg, FutureWarning)\n"
          ],
          "name": "stderr"
        },
        {
          "output_type": "execute_result",
          "data": {
            "text/plain": [
              "<matplotlib.axes._subplots.AxesSubplot at 0x7fed01a2ec90>"
            ]
          },
          "metadata": {
            "tags": []
          },
          "execution_count": 17
        },
        {
          "output_type": "display_data",
          "data": {
            "image/png": "[encoded data removed]",
            "text/plain": [
              "<Figure size 432x288 with 1 Axes>"
            ]
          },
          "metadata": {
            "tags": [],
            "needs_background": "light"
          }
        }
      ]
    },
    {
      "cell_type": "code",
      "metadata": {
        "colab": {
          "base_uri": "https://localhost:8080/",
          "height": 362
        },
        "id": "PogXjatzeTuf",
        "outputId": "435572eb-f457-4ec5-f827-b7737014ede1"
      },
      "source": [
        "sns.distplot(fn_df['director_fees'])"
      ],
      "execution_count": null,
      "outputs": [
        {
          "output_type": "stream",
          "text": [
            "/usr/local/lib/python3.7/dist-packages/seaborn/distributions.py:2557: FutureWarning: `distplot` is a deprecated function and will be removed in a future version. Please adapt your code to use either `displot` (a figure-level function with similar flexibility) or `histplot` (an axes-level function for histograms).\n",
            "  warnings.warn(msg, FutureWarning)\n"
          ],
          "name": "stderr"
        },
        {
          "output_type": "execute_result",
          "data": {
            "text/plain": [
              "<matplotlib.axes._subplots.AxesSubplot at 0x7fed01c00650>"
            ]
          },
          "metadata": {
            "tags": []
          },
          "execution_count": 15
        },
        {
          "output_type": "display_data",
          "data": {
            "image/png": "[encoded data removed]",
            "text/plain": [
              "<Figure size 432x288 with 1 Axes>"
            ]
          },
          "metadata": {
            "tags": [],
            "needs_background": "light"
          }
        }
      ]
    },
    {
      "cell_type": "code",
      "metadata": {
        "colab": {
          "base_uri": "https://localhost:8080/",
          "height": 350
        },
        "id": "d7_nolZ3eU9t",
        "outputId": "67e7decf-24e1-4a5b-c5fd-a1698790ab93"
      },
      "source": [
        "sns.distplot(fn_df['from_messages'])"
      ],
      "execution_count": null,
      "outputs": [
        {
          "output_type": "stream",
          "text": [
            "/usr/local/lib/python3.7/dist-packages/seaborn/distributions.py:2557: FutureWarning: `distplot` is a deprecated function and will be removed in a future version. Please adapt your code to use either `displot` (a figure-level function with similar flexibility) or `histplot` (an axes-level function for histograms).\n",
            "  warnings.warn(msg, FutureWarning)\n"
          ],
          "name": "stderr"
        },
        {
          "output_type": "execute_result",
          "data": {
            "text/plain": [
              "<matplotlib.axes._subplots.AxesSubplot at 0x7fed019066d0>"
            ]
          },
          "metadata": {
            "tags": []
          },
          "execution_count": 18
        },
        {
          "output_type": "display_data",
          "data": {
            "image/png": "[encoded data removed]",
            "text/plain": [
              "<Figure size 432x288 with 1 Axes>"
            ]
          },
          "metadata": {
            "tags": [],
            "needs_background": "light"
          }
        }
      ]
    },
    {
      "cell_type": "code",
      "metadata": {
        "colab": {
          "base_uri": "https://localhost:8080/",
          "height": 351
        },
        "id": "o6aUsnmleWKd",
        "outputId": "0de73e6a-60bd-41b5-d843-7397ebd5e6ff"
      },
      "source": [
        "sns.distplot(fn_df['from_poi_to_this_person'])"
      ],
      "execution_count": null,
      "outputs": [
        {
          "output_type": "stream",
          "text": [
            "/usr/local/lib/python3.7/dist-packages/seaborn/distributions.py:2557: FutureWarning: `distplot` is a deprecated function and will be removed in a future version. Please adapt your code to use either `displot` (a figure-level function with similar flexibility) or `histplot` (an axes-level function for histograms).\n",
            "  warnings.warn(msg, FutureWarning)\n"
          ],
          "name": "stderr"
        },
        {
          "output_type": "execute_result",
          "data": {
            "text/plain": [
              "<matplotlib.axes._subplots.AxesSubplot at 0x7fed0181c090>"
            ]
          },
          "metadata": {
            "tags": []
          },
          "execution_count": 19
        },
        {
          "output_type": "display_data",
          "data": {
            "image/png": "[encoded data removed]",
            "text/plain": [
              "<Figure size 432x288 with 1 Axes>"
            ]
          },
          "metadata": {
            "tags": [],
            "needs_background": "light"
          }
        }
      ]
    },
    {
      "cell_type": "code",
      "metadata": {
        "colab": {
          "base_uri": "https://localhost:8080/",
          "height": 350
        },
        "id": "O-CnHVcReWek",
        "outputId": "e9eb9dee-7af8-40ff-d850-725f00f61b86"
      },
      "source": [
        "sns.distplot(fn_df['from_this_person_to_poi'])"
      ],
      "execution_count": null,
      "outputs": [
        {
          "output_type": "stream",
          "text": [
            "/usr/local/lib/python3.7/dist-packages/seaborn/distributions.py:2557: FutureWarning: `distplot` is a deprecated function and will be removed in a future version. Please adapt your code to use either `displot` (a figure-level function with similar flexibility) or `histplot` (an axes-level function for histograms).\n",
            "  warnings.warn(msg, FutureWarning)\n"
          ],
          "name": "stderr"
        },
        {
          "output_type": "execute_result",
          "data": {
            "text/plain": [
              "<matplotlib.axes._subplots.AxesSubplot at 0x7fed01755810>"
            ]
          },
          "metadata": {
            "tags": []
          },
          "execution_count": 20
        },
        {
          "output_type": "display_data",
          "data": {
            "image/png": "[encoded data removed]",
            "text/plain": [
              "<Figure size 432x288 with 1 Axes>"
            ]
          },
          "metadata": {
            "tags": [],
            "needs_background": "light"
          }
        }
      ]
    },
    {
      "cell_type": "code",
      "metadata": {
        "colab": {
          "base_uri": "https://localhost:8080/",
          "height": 362
        },
        "id": "WRMVLzayeWwj",
        "outputId": "ad71871f-9d9f-4ef8-b17b-20344ecbcb1c"
      },
      "source": [
        "sns.distplot(fn_df['loan_advances'])"
      ],
      "execution_count": null,
      "outputs": [
        {
          "output_type": "stream",
          "text": [
            "/usr/local/lib/python3.7/dist-packages/seaborn/distributions.py:2557: FutureWarning: `distplot` is a deprecated function and will be removed in a future version. Please adapt your code to use either `displot` (a figure-level function with similar flexibility) or `histplot` (an axes-level function for histograms).\n",
            "  warnings.warn(msg, FutureWarning)\n"
          ],
          "name": "stderr"
        },
        {
          "output_type": "execute_result",
          "data": {
            "text/plain": [
              "<matplotlib.axes._subplots.AxesSubplot at 0x7fed0170c350>"
            ]
          },
          "metadata": {
            "tags": []
          },
          "execution_count": 21
        },
        {
          "output_type": "display_data",
          "data": {
            "image/png": "[encoded data removed]",
            "text/plain": [
              "<Figure size 432x288 with 1 Axes>"
            ]
          },
          "metadata": {
            "tags": [],
            "needs_background": "light"
          }
        }
      ]
    },
    {
      "cell_type": "code",
      "metadata": {
        "colab": {
          "base_uri": "https://localhost:8080/",
          "height": 362
        },
        "id": "kIsIy6sdeXHq",
        "outputId": "9c81e759-dc3f-4e1a-80a5-94653344d712"
      },
      "source": [
        "sns.distplot(fn_df['long_term_incentive'])"
      ],
      "execution_count": null,
      "outputs": [
        {
          "output_type": "stream",
          "text": [
            "/usr/local/lib/python3.7/dist-packages/seaborn/distributions.py:2557: FutureWarning: `distplot` is a deprecated function and will be removed in a future version. Please adapt your code to use either `displot` (a figure-level function with similar flexibility) or `histplot` (an axes-level function for histograms).\n",
            "  warnings.warn(msg, FutureWarning)\n"
          ],
          "name": "stderr"
        },
        {
          "output_type": "execute_result",
          "data": {
            "text/plain": [
              "<matplotlib.axes._subplots.AxesSubplot at 0x7fed01c34e10>"
            ]
          },
          "metadata": {
            "tags": []
          },
          "execution_count": 22
        },
        {
          "output_type": "display_data",
          "data": {
            "image/png": "[encoded data removed]",
            "text/plain": [
              "<Figure size 432x288 with 1 Axes>"
            ]
          },
          "metadata": {
            "tags": [],
            "needs_background": "light"
          }
        }
      ]
    },
    {
      "cell_type": "code",
      "metadata": {
        "colab": {
          "base_uri": "https://localhost:8080/",
          "height": 361
        },
        "id": "vh5X4qu8fLpf",
        "outputId": "0f910efe-b359-43c3-8635-c9d55baf2628"
      },
      "source": [
        "sns.distplot(fn_df['other'])"
      ],
      "execution_count": null,
      "outputs": [
        {
          "output_type": "stream",
          "text": [
            "/usr/local/lib/python3.7/dist-packages/seaborn/distributions.py:2557: FutureWarning: `distplot` is a deprecated function and will be removed in a future version. Please adapt your code to use either `displot` (a figure-level function with similar flexibility) or `histplot` (an axes-level function for histograms).\n",
            "  warnings.warn(msg, FutureWarning)\n"
          ],
          "name": "stderr"
        },
        {
          "output_type": "execute_result",
          "data": {
            "text/plain": [
              "<matplotlib.axes._subplots.AxesSubplot at 0x7fed01512b50>"
            ]
          },
          "metadata": {
            "tags": []
          },
          "execution_count": 23
        },
        {
          "output_type": "display_data",
          "data": {
            "image/png": "[encoded data removed]",
            "text/plain": [
              "<Figure size 432x288 with 1 Axes>"
            ]
          },
          "metadata": {
            "tags": [],
            "needs_background": "light"
          }
        }
      ]
    },
    {
      "cell_type": "markdown",
      "metadata": {
        "id": "EAbC7UdIluzG"
      },
      "source": [
        "##  Apply log transformation to the attributes to normalize the numerical  attributes               \n",
        "## (To make the data more cleaner)"
      ]
    },
    {
      "cell_type": "code",
      "metadata": {
        "id": "3XIGMfAimJXX"
      },
      "source": [
        "import numpy as np"
      ],
      "execution_count": null,
      "outputs": []
    },
    {
      "cell_type": "code",
      "metadata": {
        "colab": {
          "base_uri": "https://localhost:8080/",
          "height": 350
        },
        "id": "HjJyQazGfMSn",
        "outputId": "eef77010-0db7-42e5-e95f-006fab5da162"
      },
      "source": [
        "df['salaryLog'] = np.log(fn_df['salary'])\n",
        "sns.distplot(df['salaryLog'])"
      ],
      "execution_count": null,
      "outputs": [
        {
          "output_type": "stream",
          "text": [
            "/usr/local/lib/python3.7/dist-packages/seaborn/distributions.py:2557: FutureWarning: `distplot` is a deprecated function and will be removed in a future version. Please adapt your code to use either `displot` (a figure-level function with similar flexibility) or `histplot` (an axes-level function for histograms).\n",
            "  warnings.warn(msg, FutureWarning)\n"
          ],
          "name": "stderr"
        },
        {
          "output_type": "execute_result",
          "data": {
            "text/plain": [
              "<matplotlib.axes._subplots.AxesSubplot at 0x7fed014111d0>"
            ]
          },
          "metadata": {
            "tags": []
          },
          "execution_count": 25
        },
        {
          "output_type": "display_data",
          "data": {
            "image/png": "[encoded data removed]",
            "text/plain": [
              "<Figure size 432x288 with 1 Axes>"
            ]
          },
          "metadata": {
            "tags": [],
            "needs_background": "light"
          }
        }
      ]
    },
    {
      "cell_type": "code",
      "metadata": {
        "colab": {
          "base_uri": "https://localhost:8080/",
          "height": 351
        },
        "id": "qzA9X8DufNMH",
        "outputId": "06984223-bb7d-428b-c29d-210af716fd82"
      },
      "source": [
        "df['bonusLog'] = np.log(fn_df['bonus'])\n",
        "sns.distplot(df['bonusLog'])"
      ],
      "execution_count": null,
      "outputs": [
        {
          "output_type": "stream",
          "text": [
            "/usr/local/lib/python3.7/dist-packages/seaborn/distributions.py:2557: FutureWarning: `distplot` is a deprecated function and will be removed in a future version. Please adapt your code to use either `displot` (a figure-level function with similar flexibility) or `histplot` (an axes-level function for histograms).\n",
            "  warnings.warn(msg, FutureWarning)\n"
          ],
          "name": "stderr"
        },
        {
          "output_type": "execute_result",
          "data": {
            "text/plain": [
              "<matplotlib.axes._subplots.AxesSubplot at 0x7fed0131bad0>"
            ]
          },
          "metadata": {
            "tags": []
          },
          "execution_count": 26
        },
        {
          "output_type": "display_data",
          "data": {
            "image/png": "[encoded data removed]",
            "text/plain": [
              "<Figure size 432x288 with 1 Axes>"
            ]
          },
          "metadata": {
            "tags": [],
            "needs_background": "light"
          }
        }
      ]
    },
    {
      "cell_type": "code",
      "metadata": {
        "colab": {
          "base_uri": "https://localhost:8080/",
          "height": 384
        },
        "id": "JgGKkV7Gg_Wy",
        "outputId": "2f39c2c7-6103-4c70-def7-5e3d2b25936f"
      },
      "source": [
        "df['deferral_paymentsLog'] = np.log(fn_df['deferral_payments'])\n",
        "sns.distplot(df['deferral_paymentsLog'])"
      ],
      "execution_count": null,
      "outputs": [
        {
          "output_type": "stream",
          "text": [
            "/usr/local/lib/python3.7/dist-packages/pandas/core/series.py:726: RuntimeWarning: invalid value encountered in log\n",
            "  result = getattr(ufunc, method)(*inputs, **kwargs)\n",
            "/usr/local/lib/python3.7/dist-packages/seaborn/distributions.py:2557: FutureWarning: `distplot` is a deprecated function and will be removed in a future version. Please adapt your code to use either `displot` (a figure-level function with similar flexibility) or `histplot` (an axes-level function for histograms).\n",
            "  warnings.warn(msg, FutureWarning)\n"
          ],
          "name": "stderr"
        },
        {
          "output_type": "execute_result",
          "data": {
            "text/plain": [
              "<matplotlib.axes._subplots.AxesSubplot at 0x7fed01217c90>"
            ]
          },
          "metadata": {
            "tags": []
          },
          "execution_count": 27
        },
        {
          "output_type": "display_data",
          "data": {
            "image/png": "[encoded data removed]",
            "text/plain": [
              "<Figure size 432x288 with 1 Axes>"
            ]
          },
          "metadata": {
            "tags": [],
            "needs_background": "light"
          }
        }
      ]
    },
    {
      "cell_type": "code",
      "metadata": {
        "colab": {
          "base_uri": "https://localhost:8080/",
          "height": 350
        },
        "id": "J5USP-g5g_80",
        "outputId": "dc44a900-3880-481a-f789-6a2756e11df4"
      },
      "source": [
        "df['director_feesLog'] = np.log(fn_df['director_fees'])\n",
        "sns.distplot(df['director_feesLog'])"
      ],
      "execution_count": null,
      "outputs": [
        {
          "output_type": "stream",
          "text": [
            "/usr/local/lib/python3.7/dist-packages/seaborn/distributions.py:2557: FutureWarning: `distplot` is a deprecated function and will be removed in a future version. Please adapt your code to use either `displot` (a figure-level function with similar flexibility) or `histplot` (an axes-level function for histograms).\n",
            "  warnings.warn(msg, FutureWarning)\n"
          ],
          "name": "stderr"
        },
        {
          "output_type": "execute_result",
          "data": {
            "text/plain": [
              "<matplotlib.axes._subplots.AxesSubplot at 0x7fed0117ba10>"
            ]
          },
          "metadata": {
            "tags": []
          },
          "execution_count": 28
        },
        {
          "output_type": "display_data",
          "data": {
            "image/png": "[encoded data removed]",
            "text/plain": [
              "<Figure size 432x288 with 1 Axes>"
            ]
          },
          "metadata": {
            "tags": [],
            "needs_background": "light"
          }
        }
      ]
    },
    {
      "cell_type": "code",
      "metadata": {
        "id": "g2w5HihxhA4e",
        "colab": {
          "base_uri": "https://localhost:8080/",
          "height": 350
        },
        "outputId": "c50b552d-1f0c-45ae-8838-9ebcf2d4c122"
      },
      "source": [
        "df['exercised_stock_optionsLog'] = np.log(fn_df['exercised_stock_options'])\n",
        "sns.distplot(df['exercised_stock_optionsLog'])"
      ],
      "execution_count": null,
      "outputs": [
        {
          "output_type": "stream",
          "text": [
            "/usr/local/lib/python3.7/dist-packages/seaborn/distributions.py:2557: FutureWarning: `distplot` is a deprecated function and will be removed in a future version. Please adapt your code to use either `displot` (a figure-level function with similar flexibility) or `histplot` (an axes-level function for histograms).\n",
            "  warnings.warn(msg, FutureWarning)\n"
          ],
          "name": "stderr"
        },
        {
          "output_type": "execute_result",
          "data": {
            "text/plain": [
              "<matplotlib.axes._subplots.AxesSubplot at 0x7fed01153350>"
            ]
          },
          "metadata": {
            "tags": []
          },
          "execution_count": 29
        },
        {
          "output_type": "display_data",
          "data": {
            "image/png": "[encoded data removed]",
            "text/plain": [
              "<Figure size 432x288 with 1 Axes>"
            ]
          },
          "metadata": {
            "tags": [],
            "needs_background": "light"
          }
        }
      ]
    },
    {
      "cell_type": "code",
      "metadata": {
        "id": "T5fmcZZhhBPw",
        "colab": {
          "base_uri": "https://localhost:8080/",
          "height": 354
        },
        "outputId": "d1194b01-8f69-4045-bb7a-34701d200012"
      },
      "source": [
        "df['expensesLog'] = np.log(fn_df['expenses'])\n",
        "sns.distplot(df['expensesLog'])"
      ],
      "execution_count": null,
      "outputs": [
        {
          "output_type": "stream",
          "text": [
            "/usr/local/lib/python3.7/dist-packages/seaborn/distributions.py:2557: FutureWarning: `distplot` is a deprecated function and will be removed in a future version. Please adapt your code to use either `displot` (a figure-level function with similar flexibility) or `histplot` (an axes-level function for histograms).\n",
            "  warnings.warn(msg, FutureWarning)\n"
          ],
          "name": "stderr"
        },
        {
          "output_type": "execute_result",
          "data": {
            "text/plain": [
              "<matplotlib.axes._subplots.AxesSubplot at 0x7fed00fe4d50>"
            ]
          },
          "metadata": {
            "tags": []
          },
          "execution_count": 30
        },
        {
          "output_type": "display_data",
          "data": {
            "image/png": "[encoded data removed]",
            "text/plain": [
              "<Figure size 432x288 with 1 Axes>"
            ]
          },
          "metadata": {
            "tags": [],
            "needs_background": "light"
          }
        }
      ]
    },
    {
      "cell_type": "code",
      "metadata": {
        "id": "ML6xrMHjhBgG",
        "colab": {
          "base_uri": "https://localhost:8080/",
          "height": 354
        },
        "outputId": "8fd127a2-d4ae-472a-d1d6-3319a303e4e3"
      },
      "source": [
        "df['from_messagesLog'] = np.log(fn_df['from_messages'])\n",
        "sns.distplot(df['from_messagesLog'])"
      ],
      "execution_count": null,
      "outputs": [
        {
          "output_type": "stream",
          "text": [
            "/usr/local/lib/python3.7/dist-packages/seaborn/distributions.py:2557: FutureWarning: `distplot` is a deprecated function and will be removed in a future version. Please adapt your code to use either `displot` (a figure-level function with similar flexibility) or `histplot` (an axes-level function for histograms).\n",
            "  warnings.warn(msg, FutureWarning)\n"
          ],
          "name": "stderr"
        },
        {
          "output_type": "execute_result",
          "data": {
            "text/plain": [
              "<matplotlib.axes._subplots.AxesSubplot at 0x7fed00eebe90>"
            ]
          },
          "metadata": {
            "tags": []
          },
          "execution_count": 31
        },
        {
          "output_type": "display_data",
          "data": {
            "image/png": "[encoded data removed]",
            "text/plain": [
              "<Figure size 432x288 with 1 Axes>"
            ]
          },
          "metadata": {
            "tags": [],
            "needs_background": "light"
          }
        }
      ]
    },
    {
      "cell_type": "code",
      "metadata": {
        "id": "4w4_wcBhhBtW",
        "colab": {
          "base_uri": "https://localhost:8080/",
          "height": 350
        },
        "outputId": "3392131a-e940-47fb-e2f0-1e3489f90585"
      },
      "source": [
        "df['loan_advancesLog'] = np.log(fn_df['loan_advances'])\n",
        "sns.distplot(df['loan_advancesLog'])"
      ],
      "execution_count": null,
      "outputs": [
        {
          "output_type": "stream",
          "text": [
            "/usr/local/lib/python3.7/dist-packages/seaborn/distributions.py:2557: FutureWarning: `distplot` is a deprecated function and will be removed in a future version. Please adapt your code to use either `displot` (a figure-level function with similar flexibility) or `histplot` (an axes-level function for histograms).\n",
            "  warnings.warn(msg, FutureWarning)\n"
          ],
          "name": "stderr"
        },
        {
          "output_type": "execute_result",
          "data": {
            "text/plain": [
              "<matplotlib.axes._subplots.AxesSubplot at 0x7fed00ee25d0>"
            ]
          },
          "metadata": {
            "tags": []
          },
          "execution_count": 32
        },
        {
          "output_type": "display_data",
          "data": {
            "image/png": "[encoded data removed]",
            "text/plain": [
              "<Figure size 432x288 with 1 Axes>"
            ]
          },
          "metadata": {
            "tags": [],
            "needs_background": "light"
          }
        }
      ]
    },
    {
      "cell_type": "code",
      "metadata": {
        "id": "vuv1xQZWhB48",
        "colab": {
          "base_uri": "https://localhost:8080/",
          "height": 350
        },
        "outputId": "9524b26d-b2eb-4744-90ed-80c14b585321"
      },
      "source": [
        "df['long_term_incentiveLog'] = np.log(fn_df['long_term_incentive'])\n",
        "sns.distplot(df['long_term_incentiveLog'])"
      ],
      "execution_count": null,
      "outputs": [
        {
          "output_type": "stream",
          "text": [
            "/usr/local/lib/python3.7/dist-packages/seaborn/distributions.py:2557: FutureWarning: `distplot` is a deprecated function and will be removed in a future version. Please adapt your code to use either `displot` (a figure-level function with similar flexibility) or `histplot` (an axes-level function for histograms).\n",
            "  warnings.warn(msg, FutureWarning)\n"
          ],
          "name": "stderr"
        },
        {
          "output_type": "execute_result",
          "data": {
            "text/plain": [
              "<matplotlib.axes._subplots.AxesSubplot at 0x7fed00df7d10>"
            ]
          },
          "metadata": {
            "tags": []
          },
          "execution_count": 33
        },
        {
          "output_type": "display_data",
          "data": {
            "image/png": "[encoded data removed]",
            "text/plain": [
              "<Figure size 432x288 with 1 Axes>"
            ]
          },
          "metadata": {
            "tags": [],
            "needs_background": "light"
          }
        }
      ]
    },
    {
      "cell_type": "code",
      "metadata": {
        "id": "bHqRX5OzhCFC",
        "colab": {
          "base_uri": "https://localhost:8080/",
          "height": 350
        },
        "outputId": "5ea6ed4d-022f-4224-907f-6df95deb3dd8"
      },
      "source": [
        "df['otherLog'] = np.log(fn_df['other'])\n",
        "sns.distplot(df['otherLog'])\n"
      ],
      "execution_count": null,
      "outputs": [
        {
          "output_type": "stream",
          "text": [
            "/usr/local/lib/python3.7/dist-packages/seaborn/distributions.py:2557: FutureWarning: `distplot` is a deprecated function and will be removed in a future version. Please adapt your code to use either `displot` (a figure-level function with similar flexibility) or `histplot` (an axes-level function for histograms).\n",
            "  warnings.warn(msg, FutureWarning)\n"
          ],
          "name": "stderr"
        },
        {
          "output_type": "execute_result",
          "data": {
            "text/plain": [
              "<matplotlib.axes._subplots.AxesSubplot at 0x7fed01305390>"
            ]
          },
          "metadata": {
            "tags": []
          },
          "execution_count": 34
        },
        {
          "output_type": "display_data",
          "data": {
            "image/png": "[encoded data removed]",
            "text/plain": [
              "<Figure size 432x288 with 1 Axes>"
            ]
          },
          "metadata": {
            "tags": [],
            "needs_background": "light"
          }
        }
      ]
    },
    {
      "cell_type": "markdown",
      "metadata": {
        "id": "hHGrV364xMyT"
      },
      "source": [
        "## Correlation Matrix"
      ]
    },
    {
      "cell_type": "code",
      "metadata": {
        "id": "83EUBR2DhCQv",
        "colab": {
          "base_uri": "https://localhost:8080/",
          "height": 578
        },
        "outputId": "874bf270-757d-40fd-ec1b-677cd12d06e2"
      },
      "source": [
        "corr = fn_df.corr()\n",
        "plt.figure(figsize=(15,7))\n",
        "sns.heatmap(corr ,annot=True,cmap=\"PuRd\")"
      ],
      "execution_count": null,
      "outputs": [
        {
          "output_type": "execute_result",
          "data": {
            "text/plain": [
              "<matplotlib.axes._subplots.AxesSubplot at 0x7fecf41fba90>"
            ]
          },
          "metadata": {
            "tags": []
          },
          "execution_count": 42
        },
        {
          "output_type": "display_data",
          "data": {
            "image/png": "[encoded data removed]",
            "text/plain": [
              "<Figure size 1080x504 with 2 Axes>"
            ]
          },
          "metadata": {
            "tags": [],
            "needs_background": "light"
          }
        }
      ]
    },
    {
      "cell_type": "code",
      "metadata": {
        "id": "sbEb5SNatxMW"
      },
      "source": [
        "from sklearn.impute import SimpleImputer\n",
        "imp = SimpleImputer(missing_values=np.nan, strategy='mean')"
      ],
      "execution_count": null,
      "outputs": []
    },
    {
      "cell_type": "code",
      "metadata": {
        "id": "enNsE2-LvHKW"
      },
      "source": [
        "payment_data = ['salary',\n",
        "                'bonus',\n",
        "                'long_term_incentive',\n",
        "                'deferred_income',\n",
        "                'deferral_payments',\n",
        "                'loan_advances',\n",
        "                'other',\n",
        "                'expenses',                \n",
        "                'director_fees', \n",
        "                'total_payments']\n",
        "\n",
        "stock_data = ['exercised_stock_options',\n",
        "              'restricted_stock',\n",
        "              'restricted_stock_deferred',\n",
        "              'total_stock_value']\n",
        "\n",
        "email_data = ['to_messages',\n",
        "              'from_messages',\n",
        "              'from_poi_to_this_person',\n",
        "              'from_this_person_to_poi',\n",
        "              'shared_receipt_with_poi']\n",
        "\n",
        "              "
      ],
      "execution_count": null,
      "outputs": []
    },
    {
      "cell_type": "code",
      "metadata": {
        "id": "G1jHGnxauyix"
      },
      "source": [
        "imp_med = SimpleImputer(missing_values=np.nan, strategy='median')\n",
        "fn_df.loc[:, payment_data] = imp_med.fit_transform(fn_df.loc[:, payment_data])\n",
        "fn_df.loc[:, stock_data] = imp_med.fit_transform(fn_df.loc[:, stock_data])"
      ],
      "execution_count": null,
      "outputs": []
    },
    {
      "cell_type": "code",
      "metadata": {
        "id": "WlfZdhJ1vj0g"
      },
      "source": [
        "fn_df.loc[:, email_data] = imp.fit_transform(fn_df.loc[:,email_data])"
      ],
      "execution_count": null,
      "outputs": []
    },
    {
      "cell_type": "code",
      "metadata": {
        "colab": {
          "base_uri": "https://localhost:8080/",
          "height": 330
        },
        "id": "C7Nb6TBjwqGY",
        "outputId": "9c562c0b-c8b7-430f-e646-d3509bb173e2"
      },
      "source": [
        "fn_df.head()"
      ],
      "execution_count": null,
      "outputs": [
        {
          "output_type": "execute_result",
          "data": {
            "text/html": [
              "<div>\n",
              "<style scoped>\n",
              "    .dataframe tbody tr th:only-of-type {\n",
              "        vertical-align: middle;\n",
              "    }\n",
              "\n",
              "    .dataframe tbody tr th {\n",
              "        vertical-align: top;\n",
              "    }\n",
              "\n",
              "    .dataframe thead th {\n",
              "        text-align: right;\n",
              "    }\n",
              "</style>\n",
              "<table border=\"1\" class=\"dataframe\">\n",
              "  <thead>\n",
              "    <tr style=\"text-align: right;\">\n",
              "      <th></th>\n",
              "      <th>salary</th>\n",
              "      <th>to_messages</th>\n",
              "      <th>deferral_payments</th>\n",
              "      <th>total_payments</th>\n",
              "      <th>loan_advances</th>\n",
              "      <th>bonus</th>\n",
              "      <th>email_address</th>\n",
              "      <th>restricted_stock_deferred</th>\n",
              "      <th>deferred_income</th>\n",
              "      <th>total_stock_value</th>\n",
              "      <th>expenses</th>\n",
              "      <th>from_poi_to_this_person</th>\n",
              "      <th>exercised_stock_options</th>\n",
              "      <th>from_messages</th>\n",
              "      <th>other</th>\n",
              "      <th>from_this_person_to_poi</th>\n",
              "      <th>poi</th>\n",
              "      <th>long_term_incentive</th>\n",
              "      <th>shared_receipt_with_poi</th>\n",
              "      <th>restricted_stock</th>\n",
              "      <th>director_fees</th>\n",
              "    </tr>\n",
              "  </thead>\n",
              "  <tbody>\n",
              "    <tr>\n",
              "      <th>METTS MARK</th>\n",
              "      <td>365788.0</td>\n",
              "      <td>807.000000</td>\n",
              "      <td>227449.0</td>\n",
              "      <td>1061827.0</td>\n",
              "      <td>41762500.0</td>\n",
              "      <td>600000.0</td>\n",
              "      <td>mark.metts@enron.com</td>\n",
              "      <td>-146975.0</td>\n",
              "      <td>-159792.0</td>\n",
              "      <td>585062.0</td>\n",
              "      <td>94299.0</td>\n",
              "      <td>38.000000</td>\n",
              "      <td>1310813.5</td>\n",
              "      <td>29.000000</td>\n",
              "      <td>1740.0</td>\n",
              "      <td>1.000000</td>\n",
              "      <td>False</td>\n",
              "      <td>442035.0</td>\n",
              "      <td>702.000000</td>\n",
              "      <td>585062.0</td>\n",
              "      <td>108579.0</td>\n",
              "    </tr>\n",
              "    <tr>\n",
              "      <th>BAXTER JOHN C</th>\n",
              "      <td>267102.0</td>\n",
              "      <td>2073.860465</td>\n",
              "      <td>1295738.0</td>\n",
              "      <td>5634343.0</td>\n",
              "      <td>41762500.0</td>\n",
              "      <td>1200000.0</td>\n",
              "      <td>NaN</td>\n",
              "      <td>-146975.0</td>\n",
              "      <td>-1386055.0</td>\n",
              "      <td>10623258.0</td>\n",
              "      <td>11200.0</td>\n",
              "      <td>64.895349</td>\n",
              "      <td>6680544.0</td>\n",
              "      <td>608.790698</td>\n",
              "      <td>2660303.0</td>\n",
              "      <td>41.232558</td>\n",
              "      <td>False</td>\n",
              "      <td>1586055.0</td>\n",
              "      <td>1176.465116</td>\n",
              "      <td>3942714.0</td>\n",
              "      <td>108579.0</td>\n",
              "    </tr>\n",
              "    <tr>\n",
              "      <th>ELLIOTT STEVEN</th>\n",
              "      <td>170941.0</td>\n",
              "      <td>2073.860465</td>\n",
              "      <td>227449.0</td>\n",
              "      <td>211725.0</td>\n",
              "      <td>41762500.0</td>\n",
              "      <td>350000.0</td>\n",
              "      <td>steven.elliott@enron.com</td>\n",
              "      <td>-146975.0</td>\n",
              "      <td>-400729.0</td>\n",
              "      <td>6678735.0</td>\n",
              "      <td>78552.0</td>\n",
              "      <td>64.895349</td>\n",
              "      <td>4890344.0</td>\n",
              "      <td>608.790698</td>\n",
              "      <td>12961.0</td>\n",
              "      <td>41.232558</td>\n",
              "      <td>False</td>\n",
              "      <td>442035.0</td>\n",
              "      <td>1176.465116</td>\n",
              "      <td>1788391.0</td>\n",
              "      <td>108579.0</td>\n",
              "    </tr>\n",
              "    <tr>\n",
              "      <th>CORDES WILLIAM R</th>\n",
              "      <td>259996.0</td>\n",
              "      <td>764.000000</td>\n",
              "      <td>227449.0</td>\n",
              "      <td>1101393.0</td>\n",
              "      <td>41762500.0</td>\n",
              "      <td>769375.0</td>\n",
              "      <td>bill.cordes@enron.com</td>\n",
              "      <td>-146975.0</td>\n",
              "      <td>-159792.0</td>\n",
              "      <td>1038185.0</td>\n",
              "      <td>46950.0</td>\n",
              "      <td>10.000000</td>\n",
              "      <td>651850.0</td>\n",
              "      <td>12.000000</td>\n",
              "      <td>52382.0</td>\n",
              "      <td>0.000000</td>\n",
              "      <td>False</td>\n",
              "      <td>442035.0</td>\n",
              "      <td>58.000000</td>\n",
              "      <td>386335.0</td>\n",
              "      <td>108579.0</td>\n",
              "    </tr>\n",
              "    <tr>\n",
              "      <th>HANNON KEVIN P</th>\n",
              "      <td>243293.0</td>\n",
              "      <td>1045.000000</td>\n",
              "      <td>227449.0</td>\n",
              "      <td>288682.0</td>\n",
              "      <td>41762500.0</td>\n",
              "      <td>1500000.0</td>\n",
              "      <td>kevin.hannon@enron.com</td>\n",
              "      <td>-146975.0</td>\n",
              "      <td>-3117011.0</td>\n",
              "      <td>6391065.0</td>\n",
              "      <td>34039.0</td>\n",
              "      <td>32.000000</td>\n",
              "      <td>5538001.0</td>\n",
              "      <td>32.000000</td>\n",
              "      <td>11350.0</td>\n",
              "      <td>21.000000</td>\n",
              "      <td>True</td>\n",
              "      <td>1617011.0</td>\n",
              "      <td>1035.000000</td>\n",
              "      <td>853064.0</td>\n",
              "      <td>108579.0</td>\n",
              "    </tr>\n",
              "  </tbody>\n",
              "</table>\n",
              "</div>"
            ],
            "text/plain": [
              "                    salary  to_messages  ...  restricted_stock  director_fees\n",
              "METTS MARK        365788.0   807.000000  ...          585062.0       108579.0\n",
              "BAXTER JOHN C     267102.0  2073.860465  ...         3942714.0       108579.0\n",
              "ELLIOTT STEVEN    170941.0  2073.860465  ...         1788391.0       108579.0\n",
              "CORDES WILLIAM R  259996.0   764.000000  ...          386335.0       108579.0\n",
              "HANNON KEVIN P    243293.0  1045.000000  ...          853064.0       108579.0\n",
              "\n",
              "[5 rows x 21 columns]"
            ]
          },
          "metadata": {
            "tags": []
          },
          "execution_count": 27
        }
      ]
    },
    {
      "cell_type": "code",
      "metadata": {
        "id": "67M9EikJBx_P"
      },
      "source": [
        "poi = fn_df.loc[fn_df['poi'] == True, ['email_address', 'poi']]"
      ],
      "execution_count": null,
      "outputs": []
    },
    {
      "cell_type": "code",
      "metadata": {
        "colab": {
          "base_uri": "https://localhost:8080/",
          "height": 614
        },
        "id": "FRbytT2vINgv",
        "outputId": "6d92be51-1a82-4ccb-9446-49f464dc7874"
      },
      "source": [
        "poi"
      ],
      "execution_count": null,
      "outputs": [
        {
          "output_type": "execute_result",
          "data": {
            "text/html": [
              "<div>\n",
              "<style scoped>\n",
              "    .dataframe tbody tr th:only-of-type {\n",
              "        vertical-align: middle;\n",
              "    }\n",
              "\n",
              "    .dataframe tbody tr th {\n",
              "        vertical-align: top;\n",
              "    }\n",
              "\n",
              "    .dataframe thead th {\n",
              "        text-align: right;\n",
              "    }\n",
              "</style>\n",
              "<table border=\"1\" class=\"dataframe\">\n",
              "  <thead>\n",
              "    <tr style=\"text-align: right;\">\n",
              "      <th></th>\n",
              "      <th>email_address</th>\n",
              "      <th>poi</th>\n",
              "    </tr>\n",
              "  </thead>\n",
              "  <tbody>\n",
              "    <tr>\n",
              "      <th>HANNON KEVIN P</th>\n",
              "      <td>kevin.hannon@enron.com</td>\n",
              "      <td>True</td>\n",
              "    </tr>\n",
              "    <tr>\n",
              "      <th>COLWELL WESLEY</th>\n",
              "      <td>wes.colwell@enron.com</td>\n",
              "      <td>True</td>\n",
              "    </tr>\n",
              "    <tr>\n",
              "      <th>RIEKER PAULA H</th>\n",
              "      <td>paula.rieker@enron.com</td>\n",
              "      <td>True</td>\n",
              "    </tr>\n",
              "    <tr>\n",
              "      <th>KOPPER MICHAEL J</th>\n",
              "      <td>michael.kopper@enron.com</td>\n",
              "      <td>True</td>\n",
              "    </tr>\n",
              "    <tr>\n",
              "      <th>SHELBY REX</th>\n",
              "      <td>rex.shelby@enron.com</td>\n",
              "      <td>True</td>\n",
              "    </tr>\n",
              "    <tr>\n",
              "      <th>DELAINEY DAVID W</th>\n",
              "      <td>david.delainey@enron.com</td>\n",
              "      <td>True</td>\n",
              "    </tr>\n",
              "    <tr>\n",
              "      <th>LAY KENNETH L</th>\n",
              "      <td>kenneth.lay@enron.com</td>\n",
              "      <td>True</td>\n",
              "    </tr>\n",
              "    <tr>\n",
              "      <th>BOWEN JR RAYMOND M</th>\n",
              "      <td>raymond.bowen@enron.com</td>\n",
              "      <td>True</td>\n",
              "    </tr>\n",
              "    <tr>\n",
              "      <th>BELDEN TIMOTHY N</th>\n",
              "      <td>tim.belden@enron.com</td>\n",
              "      <td>True</td>\n",
              "    </tr>\n",
              "    <tr>\n",
              "      <th>FASTOW ANDREW S</th>\n",
              "      <td>andrew.fastow@enron.com</td>\n",
              "      <td>True</td>\n",
              "    </tr>\n",
              "    <tr>\n",
              "      <th>CALGER CHRISTOPHER F</th>\n",
              "      <td>christopher.calger@enron.com</td>\n",
              "      <td>True</td>\n",
              "    </tr>\n",
              "    <tr>\n",
              "      <th>RICE KENNETH D</th>\n",
              "      <td>ken.rice@enron.com</td>\n",
              "      <td>True</td>\n",
              "    </tr>\n",
              "    <tr>\n",
              "      <th>SKILLING JEFFREY K</th>\n",
              "      <td>jeff.skilling@enron.com</td>\n",
              "      <td>True</td>\n",
              "    </tr>\n",
              "    <tr>\n",
              "      <th>YEAGER F SCOTT</th>\n",
              "      <td>scott.yeager@enron.com</td>\n",
              "      <td>True</td>\n",
              "    </tr>\n",
              "    <tr>\n",
              "      <th>HIRKO JOSEPH</th>\n",
              "      <td>joe.hirko@enron.com</td>\n",
              "      <td>True</td>\n",
              "    </tr>\n",
              "    <tr>\n",
              "      <th>KOENIG MARK E</th>\n",
              "      <td>mark.koenig@enron.com</td>\n",
              "      <td>True</td>\n",
              "    </tr>\n",
              "    <tr>\n",
              "      <th>CAUSEY RICHARD A</th>\n",
              "      <td>richard.causey@enron.com</td>\n",
              "      <td>True</td>\n",
              "    </tr>\n",
              "    <tr>\n",
              "      <th>GLISAN JR BEN F</th>\n",
              "      <td>ben.glisan@enron.com</td>\n",
              "      <td>True</td>\n",
              "    </tr>\n",
              "  </tbody>\n",
              "</table>\n",
              "</div>"
            ],
            "text/plain": [
              "                                     email_address   poi\n",
              "HANNON KEVIN P              kevin.hannon@enron.com  True\n",
              "COLWELL WESLEY               wes.colwell@enron.com  True\n",
              "RIEKER PAULA H              paula.rieker@enron.com  True\n",
              "KOPPER MICHAEL J          michael.kopper@enron.com  True\n",
              "SHELBY REX                    rex.shelby@enron.com  True\n",
              "DELAINEY DAVID W          david.delainey@enron.com  True\n",
              "LAY KENNETH L                kenneth.lay@enron.com  True\n",
              "BOWEN JR RAYMOND M         raymond.bowen@enron.com  True\n",
              "BELDEN TIMOTHY N              tim.belden@enron.com  True\n",
              "FASTOW ANDREW S            andrew.fastow@enron.com  True\n",
              "CALGER CHRISTOPHER F  christopher.calger@enron.com  True\n",
              "RICE KENNETH D                  ken.rice@enron.com  True\n",
              "SKILLING JEFFREY K         jeff.skilling@enron.com  True\n",
              "YEAGER F SCOTT              scott.yeager@enron.com  True\n",
              "HIRKO JOSEPH                   joe.hirko@enron.com  True\n",
              "KOENIG MARK E                mark.koenig@enron.com  True\n",
              "CAUSEY RICHARD A          richard.causey@enron.com  True\n",
              "GLISAN JR BEN F               ben.glisan@enron.com  True"
            ]
          },
          "metadata": {
            "tags": []
          },
          "execution_count": 29
        }
      ]
    },
    {
      "cell_type": "code",
      "metadata": {
        "colab": {
          "base_uri": "https://localhost:8080/"
        },
        "id": "apQyPggLdejv",
        "outputId": "0e3714f0-025b-4802-e703-f61267f17d21"
      },
      "source": [
        "mail_list = list(fn_df['email_address'])\n",
        "mail_list = [mail for mail in mail_list if type(mail) != float]\n",
        "mail_list"
      ],
      "execution_count": null,
      "outputs": [
        {
          "output_type": "execute_result",
          "data": {
            "text/plain": [
              "['mark.metts@enron.com',\n",
              " 'steven.elliott@enron.com',\n",
              " 'bill.cordes@enron.com',\n",
              " 'kevin.hannon@enron.com',\n",
              " 'kristina.mordaunt@enron.com',\n",
              " 'rockford.meyer@enron.com',\n",
              " 'jeffrey.mcmahon@enron.com',\n",
              " 'mark.haedicke@enron.com',\n",
              " 'greg.piper@enron.com',\n",
              " 'gene.humphrey@enron.com',\n",
              " 'jeremy.blachman@enron.com',\n",
              " 'marty.sunde@enron.com',\n",
              " 'dana.gibbs@enron.com',\n",
              " 'wes.colwell@enron.com',\n",
              " 's..muller@enron.com',\n",
              " 'charlene.jackson@enron.com',\n",
              " 'dick.westfahl@enron.com',\n",
              " 'rob.walls@enron.com',\n",
              " 'louise.kitchen@enron.com',\n",
              " 'jeffrey.shankman@enron.com',\n",
              " 'john.wodraska@enron.com',\n",
              " 'rick.bergsieker@enron.com',\n",
              " 'philippe.bibi@enron.com',\n",
              " 'paula.rieker@enron.com',\n",
              " 'sally.beck@enron.com',\n",
              " 'david.haug@enron.com',\n",
              " 'john.echols@enron.com',\n",
              " 'gary.hickerson@enron.com',\n",
              " 'richard.lewis@enron.com',\n",
              " 'robert.hayes@enron.com',\n",
              " 'michael.kopper@enron.com',\n",
              " 'dan.leff@enron.com',\n",
              " 'john.lavorato@enron.com',\n",
              " 'david.berberian@enron.com',\n",
              " 'timothy.detmering@enron.com',\n",
              " 'ken.powers@enron.com',\n",
              " 'joe.gold@enron.com',\n",
              " 'james.bannantine@enron.com',\n",
              " 'richard.shapiro@enron.com',\n",
              " 'john.sherriff@enron.com',\n",
              " 'rex.shelby@enron.com',\n",
              " 'joseph.deffner@enron.com',\n",
              " 'joe.kishkill@enron.com',\n",
              " 'greg.whalley@enron.com',\n",
              " 'mike.mcconnell@enron.com',\n",
              " 'jim.piro@enron.com',\n",
              " 'david.delainey@enron.com',\n",
              " 'tod.lindholm@enron.com',\n",
              " 'kenneth.lay@enron.com',\n",
              " 'bob.butts@enron.com',\n",
              " 'cindy.olson@enron.com',\n",
              " 'rebecca.mcdonald@enron.com',\n",
              " 'robert.hermann@enron.com',\n",
              " 'jim.fallon@enron.com',\n",
              " 'stanley.horton@enron.com',\n",
              " 'raymond.bowen@enron.com',\n",
              " 'jay.fitzgerald@enron.com',\n",
              " 'michael.moran@enron.com',\n",
              " 'brian.redmond@enron.com',\n",
              " 'tim.belden@enron.com',\n",
              " 'richard.dimichele@enron.com',\n",
              " 'w.duran@enron.com',\n",
              " 'terence.thorn@enron.com',\n",
              " 'andrew.fastow@enron.com',\n",
              " 'tracy.foy@enron.com',\n",
              " 'christopher.calger@enron.com',\n",
              " 'ken.rice@enron.com',\n",
              " 'vince.kaminski@enron.com',\n",
              " 'chip.cox@enron.com',\n",
              " 'jere.overdyke@enron.com',\n",
              " 'frank.stabler@enron.com',\n",
              " 'jeff.skilling@enron.com',\n",
              " 'jeffrey.sherrick@enron.com',\n",
              " 'james.prentice@enron.com',\n",
              " 'adam.umanoff@enron.com',\n",
              " 'steven.kean@enron.com',\n",
              " 'kulvinder.fowler@enron.com',\n",
              " 'george.wasaff@enron.com',\n",
              " 'thomas.white@enron.com',\n",
              " 'diomedes.christodoulou@enron.com',\n",
              " 'phillip.allen@enron.com',\n",
              " 'vicki.sharp@enron.com',\n",
              " 'michael.brown@enron.com',\n",
              " 'george.mcclellan@enron.com',\n",
              " 'james.hughes@enron.com',\n",
              " 'mark.pickering@enron.com',\n",
              " 'sanjay.bhatnagar@enron.com',\n",
              " 'rebecca.carter@enron.com',\n",
              " 'john.buchanan@enron.com',\n",
              " 'julia.murray@enron.com',\n",
              " 'kevin.garland@enron.com',\n",
              " 'keith.dodson@enron.com',\n",
              " 'scott.yeager@enron.com',\n",
              " 'joe.hirko@enron.com',\n",
              " 'janet.dietrich@enron.com',\n",
              " 'james.derrick@enron.com',\n",
              " 'mark.frevert@enron.com',\n",
              " 'lou.pai@enron.com',\n",
              " 'rod.hayslett@enron.com',\n",
              " 'frank.bay@enron.com',\n",
              " 'danny.mccarty@enron.com',\n",
              " 'matthew.scrimshaw@enron.com',\n",
              " 'mark.koenig@enron.com',\n",
              " 'larry.izzo@enron.com',\n",
              " 'elizabeth.tilney@enron.com',\n",
              " 'a..martin@enron.com',\n",
              " 'rick.buy@enron.com',\n",
              " 'richard.causey@enron.com',\n",
              " 'mitchell.taylor@enron.com',\n",
              " 'jeff.donahue@enron.com',\n",
              " 'ben.glisan@enron.com']"
            ]
          },
          "metadata": {
            "tags": []
          },
          "execution_count": 30
        }
      ]
    },
    {
      "cell_type": "code",
      "metadata": {
        "id": "Gbu9IiwYIOQM"
      },
      "source": [
        "poi_ls = list(poi['email_address'])"
      ],
      "execution_count": null,
      "outputs": []
    },
    {
      "cell_type": "code",
      "metadata": {
        "id": "93XEq4BvKBAl"
      },
      "source": [
        "Toemp, Fromemp = {mail:[] for mail in mail_list}, {mail: [] for mail in mail_list}\n",
        "for index, row in df.iterrows():\n",
        "  if row['From'] in mail_list:\n",
        "    Fromemp[row['From']].append(row['text'])\n",
        "  if row['To'] in mail_list:\n",
        "    Toemp[row['To']].append(row['text'])\n",
        "  \n",
        "\n"
      ],
      "execution_count": null,
      "outputs": []
    },
    {
      "cell_type": "code",
      "metadata": {
        "id": "63VTunDlLNn7"
      },
      "source": [
        "import gensim\n"
      ],
      "execution_count": null,
      "outputs": []
    },
    {
      "cell_type": "code",
      "metadata": {
        "id": "x1oHLrhcN03t"
      },
      "source": [
        "from gensim.parsing.preprocessing import *\n",
        "CUSTOM_FILTERS = [lambda x: x.lower(), strip_tags, strip_punctuation, remove_stopwords]"
      ],
      "execution_count": null,
      "outputs": []
    },
    {
      "cell_type": "code",
      "metadata": {
        "id": "ELxkf6r0CKeN"
      },
      "source": [
        "# from gensim.parsing.preprocessing import preprocess_string, preprocess_documents \n",
        "# class MyCorpus:\n",
        "#       \"\"\"An iterator that yields sentences (lists of str).\"\"\"\n",
        "#       def __init__(self, toemp, fromemp):\n",
        "#         self.toemp = toemp\n",
        "#         self.fromemp = fromemp\n",
        "#       def __iter__(self):\n",
        "#         for emp in self.toemp:\n",
        "#           for sentence in self.toemp[emp]:\n",
        "#             yield preprocess_string(sentence.lower())\n",
        "#         for emp in self.fromemp:\n",
        "#           for sentence in self.fromemp[emp]:\n",
        "#             yield preprocess_string(sentence.lower())"
      ],
      "execution_count": null,
      "outputs": []
    },
    {
      "cell_type": "code",
      "metadata": {
        "colab": {
          "base_uri": "https://localhost:8080/"
        },
        "id": "sU9C_8bEEoIR",
        "outputId": "24e96e88-78d8-4945-a3d0-cf5a0b22aa2d"
      },
      "source": [
        "from gensim.parsing.preprocessing import preprocess_string, preprocess_documents\n",
        "preprocess_string('hello one of all')"
      ],
      "execution_count": null,
      "outputs": [
        {
          "output_type": "execute_result",
          "data": {
            "text/plain": [
              "['hello']"
            ]
          },
          "metadata": {
            "tags": []
          },
          "execution_count": 36
        }
      ]
    },
    {
      "cell_type": "code",
      "metadata": {
        "id": "1SE1sATLKEMP"
      },
      "source": [
        "# sentences = MyCorpus(Toemp, Fromemp)"
      ],
      "execution_count": null,
      "outputs": []
    },
    {
      "cell_type": "code",
      "metadata": {
        "id": "gt1Y2LeHVv6N"
      },
      "source": [
        "# skipmodel = gensim.models.Word2Vec(sentences=sentences, sg=1, min_count = 1, size=300, window=5, workers=2)"
      ],
      "execution_count": null,
      "outputs": []
    },
    {
      "cell_type": "code",
      "metadata": {
        "id": "sRHEqzrvp9Fc"
      },
      "source": [
        "pwd"
      ],
      "execution_count": null,
      "outputs": []
    },
    {
      "cell_type": "code",
      "metadata": {
        "id": "5klIStAIpXXs"
      },
      "source": [
        "\n",
        "# word_vectors = skipmodel.wv\n",
        "# word_vectors.save(\"word2vec.wordvectors\")"
      ],
      "execution_count": null,
      "outputs": []
    },
    {
      "cell_type": "code",
      "metadata": {
        "id": "-8UZRn_KrzZ-"
      },
      "source": [
        "from gensim.models import KeyedVectors\n",
        "wv = KeyedVectors.load(\"word2vec.wordvectors\", mmap='r')\n"
      ],
      "execution_count": null,
      "outputs": []
    },
    {
      "cell_type": "code",
      "metadata": {
        "id": "UhqbLGXvJ_i8"
      },
      "source": [
        "def getMailTovec(email):\n",
        "  if type(email) == float:\n",
        "    return np.zeros((300,))\n",
        "  \n",
        "  hel = np.mean(np.array([sum([wv[word] for word in preprocess_string(sen)]) for sen in Toemp[email]]), axis=0)\n",
        "  if hel.shape != (300, ):\n",
        "    return np.zeros((300, ))\n",
        "  return hel"
      ],
      "execution_count": null,
      "outputs": []
    },
    {
      "cell_type": "code",
      "metadata": {
        "id": "pEAWn2OdTQ_R"
      },
      "source": [
        "def getMailFromvec(email):\n",
        "  if type(email) == float:\n",
        "    return np.zeros((300,))\n",
        "  hel = np.mean(np.array([sum([wv[word] for word in preprocess_string(sen)]) for sen in Fromemp[email]]), axis=0)\n",
        "  if hel.shape != (300, ):\n",
        "    return np.zeros((300, ))\n",
        "  return hel"
      ],
      "execution_count": null,
      "outputs": []
    },
    {
      "cell_type": "code",
      "metadata": {
        "colab": {
          "base_uri": "https://localhost:8080/"
        },
        "id": "V0fADg-kS9gP",
        "outputId": "9af3e7f0-e836-4f9c-b5f0-ab6badb33989"
      },
      "source": [
        "fn_df['MailToVec'] = fn_df['email_address'].apply(getMailTovec)"
      ],
      "execution_count": null,
      "outputs": [
        {
          "output_type": "stream",
          "text": [
            "/usr/local/lib/python3.7/dist-packages/ipykernel_launcher.py:5: VisibleDeprecationWarning: Creating an ndarray from ragged nested sequences (which is a list-or-tuple of lists-or-tuples-or ndarrays with different lengths or shapes) is deprecated. If you meant to do this, you must specify 'dtype=object' when creating the ndarray\n",
            "  \"\"\"\n",
            "/usr/local/lib/python3.7/dist-packages/numpy/core/fromnumeric.py:3373: RuntimeWarning: Mean of empty slice.\n",
            "  out=out, **kwargs)\n"
          ],
          "name": "stderr"
        }
      ]
    },
    {
      "cell_type": "code",
      "metadata": {
        "colab": {
          "base_uri": "https://localhost:8080/"
        },
        "id": "pKmqo4zFkIzQ",
        "outputId": "29964d98-0ad7-4b40-af5b-155bfd2c4922"
      },
      "source": [
        "fn_df['MailFromVec'] = fn_df['email_address'].apply(getMailFromvec)"
      ],
      "execution_count": null,
      "outputs": [
        {
          "output_type": "stream",
          "text": [
            "/usr/local/lib/python3.7/dist-packages/numpy/core/fromnumeric.py:3373: RuntimeWarning: Mean of empty slice.\n",
            "  out=out, **kwargs)\n",
            "/usr/local/lib/python3.7/dist-packages/ipykernel_launcher.py:4: VisibleDeprecationWarning: Creating an ndarray from ragged nested sequences (which is a list-or-tuple of lists-or-tuples-or ndarrays with different lengths or shapes) is deprecated. If you meant to do this, you must specify 'dtype=object' when creating the ndarray\n",
            "  after removing the cwd from sys.path.\n"
          ],
          "name": "stderr"
        }
      ]
    },
    {
      "cell_type": "code",
      "metadata": {
        "colab": {
          "base_uri": "https://localhost:8080/",
          "height": 521
        },
        "id": "vFRiCdgJsPEF",
        "outputId": "f4b235e3-d898-41d9-ab56-bb31a643e65f"
      },
      "source": [
        "fn_df.head()"
      ],
      "execution_count": null,
      "outputs": [
        {
          "output_type": "execute_result",
          "data": {
            "text/html": [
              "<div>\n",
              "<style scoped>\n",
              "    .dataframe tbody tr th:only-of-type {\n",
              "        vertical-align: middle;\n",
              "    }\n",
              "\n",
              "    .dataframe tbody tr th {\n",
              "        vertical-align: top;\n",
              "    }\n",
              "\n",
              "    .dataframe thead th {\n",
              "        text-align: right;\n",
              "    }\n",
              "</style>\n",
              "<table border=\"1\" class=\"dataframe\">\n",
              "  <thead>\n",
              "    <tr style=\"text-align: right;\">\n",
              "      <th></th>\n",
              "      <th>salary</th>\n",
              "      <th>to_messages</th>\n",
              "      <th>deferral_payments</th>\n",
              "      <th>total_payments</th>\n",
              "      <th>loan_advances</th>\n",
              "      <th>bonus</th>\n",
              "      <th>email_address</th>\n",
              "      <th>restricted_stock_deferred</th>\n",
              "      <th>deferred_income</th>\n",
              "      <th>total_stock_value</th>\n",
              "      <th>expenses</th>\n",
              "      <th>from_poi_to_this_person</th>\n",
              "      <th>exercised_stock_options</th>\n",
              "      <th>from_messages</th>\n",
              "      <th>other</th>\n",
              "      <th>from_this_person_to_poi</th>\n",
              "      <th>poi</th>\n",
              "      <th>long_term_incentive</th>\n",
              "      <th>shared_receipt_with_poi</th>\n",
              "      <th>restricted_stock</th>\n",
              "      <th>director_fees</th>\n",
              "      <th>MailToVec</th>\n",
              "      <th>MailFromVec</th>\n",
              "    </tr>\n",
              "  </thead>\n",
              "  <tbody>\n",
              "    <tr>\n",
              "      <th>METTS MARK</th>\n",
              "      <td>365788.0</td>\n",
              "      <td>807.000000</td>\n",
              "      <td>227449.0</td>\n",
              "      <td>1061827.0</td>\n",
              "      <td>41762500.0</td>\n",
              "      <td>600000.0</td>\n",
              "      <td>mark.metts@enron.com</td>\n",
              "      <td>-146975.0</td>\n",
              "      <td>-159792.0</td>\n",
              "      <td>585062.0</td>\n",
              "      <td>94299.0</td>\n",
              "      <td>38.000000</td>\n",
              "      <td>1310813.5</td>\n",
              "      <td>29.000000</td>\n",
              "      <td>1740.0</td>\n",
              "      <td>1.000000</td>\n",
              "      <td>False</td>\n",
              "      <td>442035.0</td>\n",
              "      <td>702.000000</td>\n",
              "      <td>585062.0</td>\n",
              "      <td>108579.0</td>\n",
              "      <td>[9.72706, -8.739636, -9.039808, -2.453021, 1.2...</td>\n",
              "      <td>[23.06875, -22.052372, -18.247673, 0.21297999,...</td>\n",
              "    </tr>\n",
              "    <tr>\n",
              "      <th>BAXTER JOHN C</th>\n",
              "      <td>267102.0</td>\n",
              "      <td>2073.860465</td>\n",
              "      <td>1295738.0</td>\n",
              "      <td>5634343.0</td>\n",
              "      <td>41762500.0</td>\n",
              "      <td>1200000.0</td>\n",
              "      <td>NaN</td>\n",
              "      <td>-146975.0</td>\n",
              "      <td>-1386055.0</td>\n",
              "      <td>10623258.0</td>\n",
              "      <td>11200.0</td>\n",
              "      <td>64.895349</td>\n",
              "      <td>6680544.0</td>\n",
              "      <td>608.790698</td>\n",
              "      <td>2660303.0</td>\n",
              "      <td>41.232558</td>\n",
              "      <td>False</td>\n",
              "      <td>1586055.0</td>\n",
              "      <td>1176.465116</td>\n",
              "      <td>3942714.0</td>\n",
              "      <td>108579.0</td>\n",
              "      <td>[0.0, 0.0, 0.0, 0.0, 0.0, 0.0, 0.0, 0.0, 0.0, ...</td>\n",
              "      <td>[0.0, 0.0, 0.0, 0.0, 0.0, 0.0, 0.0, 0.0, 0.0, ...</td>\n",
              "    </tr>\n",
              "    <tr>\n",
              "      <th>ELLIOTT STEVEN</th>\n",
              "      <td>170941.0</td>\n",
              "      <td>2073.860465</td>\n",
              "      <td>227449.0</td>\n",
              "      <td>211725.0</td>\n",
              "      <td>41762500.0</td>\n",
              "      <td>350000.0</td>\n",
              "      <td>steven.elliott@enron.com</td>\n",
              "      <td>-146975.0</td>\n",
              "      <td>-400729.0</td>\n",
              "      <td>6678735.0</td>\n",
              "      <td>78552.0</td>\n",
              "      <td>64.895349</td>\n",
              "      <td>4890344.0</td>\n",
              "      <td>608.790698</td>\n",
              "      <td>12961.0</td>\n",
              "      <td>41.232558</td>\n",
              "      <td>False</td>\n",
              "      <td>442035.0</td>\n",
              "      <td>1176.465116</td>\n",
              "      <td>1788391.0</td>\n",
              "      <td>108579.0</td>\n",
              "      <td>[3.7225091, -2.5999212, -6.6313066, -3.1349664...</td>\n",
              "      <td>[0.0, 0.0, 0.0, 0.0, 0.0, 0.0, 0.0, 0.0, 0.0, ...</td>\n",
              "    </tr>\n",
              "    <tr>\n",
              "      <th>CORDES WILLIAM R</th>\n",
              "      <td>259996.0</td>\n",
              "      <td>764.000000</td>\n",
              "      <td>227449.0</td>\n",
              "      <td>1101393.0</td>\n",
              "      <td>41762500.0</td>\n",
              "      <td>769375.0</td>\n",
              "      <td>bill.cordes@enron.com</td>\n",
              "      <td>-146975.0</td>\n",
              "      <td>-159792.0</td>\n",
              "      <td>1038185.0</td>\n",
              "      <td>46950.0</td>\n",
              "      <td>10.000000</td>\n",
              "      <td>651850.0</td>\n",
              "      <td>12.000000</td>\n",
              "      <td>52382.0</td>\n",
              "      <td>0.000000</td>\n",
              "      <td>False</td>\n",
              "      <td>442035.0</td>\n",
              "      <td>58.000000</td>\n",
              "      <td>386335.0</td>\n",
              "      <td>108579.0</td>\n",
              "      <td>[21.36504, -22.048264, -21.862709, -8.589684, ...</td>\n",
              "      <td>[30.541983, -10.347441, -6.912309, -39.798244,...</td>\n",
              "    </tr>\n",
              "    <tr>\n",
              "      <th>HANNON KEVIN P</th>\n",
              "      <td>243293.0</td>\n",
              "      <td>1045.000000</td>\n",
              "      <td>227449.0</td>\n",
              "      <td>288682.0</td>\n",
              "      <td>41762500.0</td>\n",
              "      <td>1500000.0</td>\n",
              "      <td>kevin.hannon@enron.com</td>\n",
              "      <td>-146975.0</td>\n",
              "      <td>-3117011.0</td>\n",
              "      <td>6391065.0</td>\n",
              "      <td>34039.0</td>\n",
              "      <td>32.000000</td>\n",
              "      <td>5538001.0</td>\n",
              "      <td>32.000000</td>\n",
              "      <td>11350.0</td>\n",
              "      <td>21.000000</td>\n",
              "      <td>True</td>\n",
              "      <td>1617011.0</td>\n",
              "      <td>1035.000000</td>\n",
              "      <td>853064.0</td>\n",
              "      <td>108579.0</td>\n",
              "      <td>[22.25443, -17.074638, -28.423304, 8.104021, 3...</td>\n",
              "      <td>[20.888609, -11.517236, -26.299337, 0.8371881,...</td>\n",
              "    </tr>\n",
              "  </tbody>\n",
              "</table>\n",
              "</div>"
            ],
            "text/plain": [
              "                    salary  ...                                        MailFromVec\n",
              "METTS MARK        365788.0  ...  [23.06875, -22.052372, -18.247673, 0.21297999,...\n",
              "BAXTER JOHN C     267102.0  ...  [0.0, 0.0, 0.0, 0.0, 0.0, 0.0, 0.0, 0.0, 0.0, ...\n",
              "ELLIOTT STEVEN    170941.0  ...  [0.0, 0.0, 0.0, 0.0, 0.0, 0.0, 0.0, 0.0, 0.0, ...\n",
              "CORDES WILLIAM R  259996.0  ...  [30.541983, -10.347441, -6.912309, -39.798244,...\n",
              "HANNON KEVIN P    243293.0  ...  [20.888609, -11.517236, -26.299337, 0.8371881,...\n",
              "\n",
              "[5 rows x 23 columns]"
            ]
          },
          "metadata": {
            "tags": []
          },
          "execution_count": 44
        }
      ]
    },
    {
      "cell_type": "code",
      "metadata": {
        "id": "uTt77TUs3H0x"
      },
      "source": [
        "fn_df['poi'] = fn_df['poi'].apply(int)"
      ],
      "execution_count": null,
      "outputs": []
    },
    {
      "cell_type": "code",
      "metadata": {
        "colab": {
          "base_uri": "https://localhost:8080/",
          "height": 521
        },
        "id": "yynvOuWGwz9P",
        "outputId": "d1061cdf-82b1-41b4-9c38-1b655139ac21"
      },
      "source": [
        "fn_df.head()"
      ],
      "execution_count": null,
      "outputs": [
        {
          "output_type": "execute_result",
          "data": {
            "text/html": [
              "<div>\n",
              "<style scoped>\n",
              "    .dataframe tbody tr th:only-of-type {\n",
              "        vertical-align: middle;\n",
              "    }\n",
              "\n",
              "    .dataframe tbody tr th {\n",
              "        vertical-align: top;\n",
              "    }\n",
              "\n",
              "    .dataframe thead th {\n",
              "        text-align: right;\n",
              "    }\n",
              "</style>\n",
              "<table border=\"1\" class=\"dataframe\">\n",
              "  <thead>\n",
              "    <tr style=\"text-align: right;\">\n",
              "      <th></th>\n",
              "      <th>salary</th>\n",
              "      <th>to_messages</th>\n",
              "      <th>deferral_payments</th>\n",
              "      <th>total_payments</th>\n",
              "      <th>loan_advances</th>\n",
              "      <th>bonus</th>\n",
              "      <th>email_address</th>\n",
              "      <th>restricted_stock_deferred</th>\n",
              "      <th>deferred_income</th>\n",
              "      <th>total_stock_value</th>\n",
              "      <th>expenses</th>\n",
              "      <th>from_poi_to_this_person</th>\n",
              "      <th>exercised_stock_options</th>\n",
              "      <th>from_messages</th>\n",
              "      <th>other</th>\n",
              "      <th>from_this_person_to_poi</th>\n",
              "      <th>poi</th>\n",
              "      <th>long_term_incentive</th>\n",
              "      <th>shared_receipt_with_poi</th>\n",
              "      <th>restricted_stock</th>\n",
              "      <th>director_fees</th>\n",
              "      <th>MailToVec</th>\n",
              "      <th>MailFromVec</th>\n",
              "    </tr>\n",
              "  </thead>\n",
              "  <tbody>\n",
              "    <tr>\n",
              "      <th>METTS MARK</th>\n",
              "      <td>365788.0</td>\n",
              "      <td>807.000000</td>\n",
              "      <td>227449.0</td>\n",
              "      <td>1061827.0</td>\n",
              "      <td>41762500.0</td>\n",
              "      <td>600000.0</td>\n",
              "      <td>mark.metts@enron.com</td>\n",
              "      <td>-146975.0</td>\n",
              "      <td>-159792.0</td>\n",
              "      <td>585062.0</td>\n",
              "      <td>94299.0</td>\n",
              "      <td>38.000000</td>\n",
              "      <td>1310813.5</td>\n",
              "      <td>29.000000</td>\n",
              "      <td>1740.0</td>\n",
              "      <td>1.000000</td>\n",
              "      <td>0</td>\n",
              "      <td>442035.0</td>\n",
              "      <td>702.000000</td>\n",
              "      <td>585062.0</td>\n",
              "      <td>108579.0</td>\n",
              "      <td>[9.72706, -8.739636, -9.039808, -2.453021, 1.2...</td>\n",
              "      <td>[23.06875, -22.052372, -18.247673, 0.21297999,...</td>\n",
              "    </tr>\n",
              "    <tr>\n",
              "      <th>BAXTER JOHN C</th>\n",
              "      <td>267102.0</td>\n",
              "      <td>2073.860465</td>\n",
              "      <td>1295738.0</td>\n",
              "      <td>5634343.0</td>\n",
              "      <td>41762500.0</td>\n",
              "      <td>1200000.0</td>\n",
              "      <td>NaN</td>\n",
              "      <td>-146975.0</td>\n",
              "      <td>-1386055.0</td>\n",
              "      <td>10623258.0</td>\n",
              "      <td>11200.0</td>\n",
              "      <td>64.895349</td>\n",
              "      <td>6680544.0</td>\n",
              "      <td>608.790698</td>\n",
              "      <td>2660303.0</td>\n",
              "      <td>41.232558</td>\n",
              "      <td>0</td>\n",
              "      <td>1586055.0</td>\n",
              "      <td>1176.465116</td>\n",
              "      <td>3942714.0</td>\n",
              "      <td>108579.0</td>\n",
              "      <td>[0.0, 0.0, 0.0, 0.0, 0.0, 0.0, 0.0, 0.0, 0.0, ...</td>\n",
              "      <td>[0.0, 0.0, 0.0, 0.0, 0.0, 0.0, 0.0, 0.0, 0.0, ...</td>\n",
              "    </tr>\n",
              "    <tr>\n",
              "      <th>ELLIOTT STEVEN</th>\n",
              "      <td>170941.0</td>\n",
              "      <td>2073.860465</td>\n",
              "      <td>227449.0</td>\n",
              "      <td>211725.0</td>\n",
              "      <td>41762500.0</td>\n",
              "      <td>350000.0</td>\n",
              "      <td>steven.elliott@enron.com</td>\n",
              "      <td>-146975.0</td>\n",
              "      <td>-400729.0</td>\n",
              "      <td>6678735.0</td>\n",
              "      <td>78552.0</td>\n",
              "      <td>64.895349</td>\n",
              "      <td>4890344.0</td>\n",
              "      <td>608.790698</td>\n",
              "      <td>12961.0</td>\n",
              "      <td>41.232558</td>\n",
              "      <td>0</td>\n",
              "      <td>442035.0</td>\n",
              "      <td>1176.465116</td>\n",
              "      <td>1788391.0</td>\n",
              "      <td>108579.0</td>\n",
              "      <td>[3.7225091, -2.5999212, -6.6313066, -3.1349664...</td>\n",
              "      <td>[0.0, 0.0, 0.0, 0.0, 0.0, 0.0, 0.0, 0.0, 0.0, ...</td>\n",
              "    </tr>\n",
              "    <tr>\n",
              "      <th>CORDES WILLIAM R</th>\n",
              "      <td>259996.0</td>\n",
              "      <td>764.000000</td>\n",
              "      <td>227449.0</td>\n",
              "      <td>1101393.0</td>\n",
              "      <td>41762500.0</td>\n",
              "      <td>769375.0</td>\n",
              "      <td>bill.cordes@enron.com</td>\n",
              "      <td>-146975.0</td>\n",
              "      <td>-159792.0</td>\n",
              "      <td>1038185.0</td>\n",
              "      <td>46950.0</td>\n",
              "      <td>10.000000</td>\n",
              "      <td>651850.0</td>\n",
              "      <td>12.000000</td>\n",
              "      <td>52382.0</td>\n",
              "      <td>0.000000</td>\n",
              "      <td>0</td>\n",
              "      <td>442035.0</td>\n",
              "      <td>58.000000</td>\n",
              "      <td>386335.0</td>\n",
              "      <td>108579.0</td>\n",
              "      <td>[21.36504, -22.048264, -21.862709, -8.589684, ...</td>\n",
              "      <td>[30.541983, -10.347441, -6.912309, -39.798244,...</td>\n",
              "    </tr>\n",
              "    <tr>\n",
              "      <th>HANNON KEVIN P</th>\n",
              "      <td>243293.0</td>\n",
              "      <td>1045.000000</td>\n",
              "      <td>227449.0</td>\n",
              "      <td>288682.0</td>\n",
              "      <td>41762500.0</td>\n",
              "      <td>1500000.0</td>\n",
              "      <td>kevin.hannon@enron.com</td>\n",
              "      <td>-146975.0</td>\n",
              "      <td>-3117011.0</td>\n",
              "      <td>6391065.0</td>\n",
              "      <td>34039.0</td>\n",
              "      <td>32.000000</td>\n",
              "      <td>5538001.0</td>\n",
              "      <td>32.000000</td>\n",
              "      <td>11350.0</td>\n",
              "      <td>21.000000</td>\n",
              "      <td>1</td>\n",
              "      <td>1617011.0</td>\n",
              "      <td>1035.000000</td>\n",
              "      <td>853064.0</td>\n",
              "      <td>108579.0</td>\n",
              "      <td>[22.25443, -17.074638, -28.423304, 8.104021, 3...</td>\n",
              "      <td>[20.888609, -11.517236, -26.299337, 0.8371881,...</td>\n",
              "    </tr>\n",
              "  </tbody>\n",
              "</table>\n",
              "</div>"
            ],
            "text/plain": [
              "                    salary  ...                                        MailFromVec\n",
              "METTS MARK        365788.0  ...  [23.06875, -22.052372, -18.247673, 0.21297999,...\n",
              "BAXTER JOHN C     267102.0  ...  [0.0, 0.0, 0.0, 0.0, 0.0, 0.0, 0.0, 0.0, 0.0, ...\n",
              "ELLIOTT STEVEN    170941.0  ...  [0.0, 0.0, 0.0, 0.0, 0.0, 0.0, 0.0, 0.0, 0.0, ...\n",
              "CORDES WILLIAM R  259996.0  ...  [30.541983, -10.347441, -6.912309, -39.798244,...\n",
              "HANNON KEVIN P    243293.0  ...  [20.888609, -11.517236, -26.299337, 0.8371881,...\n",
              "\n",
              "[5 rows x 23 columns]"
            ]
          },
          "metadata": {
            "tags": []
          },
          "execution_count": 46
        }
      ]
    },
    {
      "cell_type": "markdown",
      "metadata": {
        "id": "7tNgcOSaHKZM"
      },
      "source": [
        "## decreasing word2vec dimensionality to 30"
      ]
    },
    {
      "cell_type": "code",
      "metadata": {
        "id": "oCFPouaBCsRX"
      },
      "source": [
        "from sklearn.decomposition import PCA\n",
        "\n"
      ],
      "execution_count": null,
      "outputs": []
    },
    {
      "cell_type": "code",
      "metadata": {
        "id": "oFAjUffQCuK_"
      },
      "source": [
        "pca = PCA(n_components=30)\n",
        "X = pca.fit_transform(np.array([array for array in fn_df['MailFromVec']]))"
      ],
      "execution_count": null,
      "outputs": []
    },
    {
      "cell_type": "code",
      "metadata": {
        "id": "ErXWkaBMEpDR"
      },
      "source": [
        "itr = iter(range(500))"
      ],
      "execution_count": null,
      "outputs": []
    },
    {
      "cell_type": "code",
      "metadata": {
        "id": "zARrzitTEGXr"
      },
      "source": [
        "app = lambda x: X[next(itr), :]"
      ],
      "execution_count": null,
      "outputs": []
    },
    {
      "cell_type": "code",
      "metadata": {
        "id": "owKJMKasEyKG"
      },
      "source": [
        "fn_df['MailFromVec'] = fn_df['MailFromVec'].apply(app)"
      ],
      "execution_count": null,
      "outputs": []
    },
    {
      "cell_type": "code",
      "metadata": {
        "id": "xX8cqLtdFQeP"
      },
      "source": [
        "pca = PCA(n_components=30)\n",
        "X = pca.fit_transform(np.array([array for array in fn_df['MailToVec']]))"
      ],
      "execution_count": null,
      "outputs": []
    },
    {
      "cell_type": "code",
      "metadata": {
        "id": "mSLhlB3hGcAX"
      },
      "source": [
        "itr = iter(range(500))"
      ],
      "execution_count": null,
      "outputs": []
    },
    {
      "cell_type": "code",
      "metadata": {
        "id": "I48X4wzfGYvQ"
      },
      "source": [
        "fn_df['MailToVec'] = fn_df['MailToVec'].apply(app)"
      ],
      "execution_count": null,
      "outputs": []
    },
    {
      "cell_type": "code",
      "metadata": {
        "colab": {
          "base_uri": "https://localhost:8080/",
          "height": 400
        },
        "id": "mTO_nkB8GMdr",
        "outputId": "9370f938-d5b3-41d4-fc4f-38e0cdb0e2c8"
      },
      "source": [
        "fn_df.head()"
      ],
      "execution_count": null,
      "outputs": [
        {
          "output_type": "execute_result",
          "data": {
            "text/html": [
              "<div>\n",
              "<style scoped>\n",
              "    .dataframe tbody tr th:only-of-type {\n",
              "        vertical-align: middle;\n",
              "    }\n",
              "\n",
              "    .dataframe tbody tr th {\n",
              "        vertical-align: top;\n",
              "    }\n",
              "\n",
              "    .dataframe thead th {\n",
              "        text-align: right;\n",
              "    }\n",
              "</style>\n",
              "<table border=\"1\" class=\"dataframe\">\n",
              "  <thead>\n",
              "    <tr style=\"text-align: right;\">\n",
              "      <th></th>\n",
              "      <th>salary</th>\n",
              "      <th>to_messages</th>\n",
              "      <th>deferral_payments</th>\n",
              "      <th>total_payments</th>\n",
              "      <th>loan_advances</th>\n",
              "      <th>bonus</th>\n",
              "      <th>email_address</th>\n",
              "      <th>restricted_stock_deferred</th>\n",
              "      <th>deferred_income</th>\n",
              "      <th>total_stock_value</th>\n",
              "      <th>expenses</th>\n",
              "      <th>from_poi_to_this_person</th>\n",
              "      <th>exercised_stock_options</th>\n",
              "      <th>from_messages</th>\n",
              "      <th>other</th>\n",
              "      <th>from_this_person_to_poi</th>\n",
              "      <th>poi</th>\n",
              "      <th>long_term_incentive</th>\n",
              "      <th>shared_receipt_with_poi</th>\n",
              "      <th>restricted_stock</th>\n",
              "      <th>director_fees</th>\n",
              "      <th>MailToVec</th>\n",
              "      <th>MailFromVec</th>\n",
              "    </tr>\n",
              "  </thead>\n",
              "  <tbody>\n",
              "    <tr>\n",
              "      <th>METTS MARK</th>\n",
              "      <td>365788.0</td>\n",
              "      <td>807.000000</td>\n",
              "      <td>227449.0</td>\n",
              "      <td>1061827.0</td>\n",
              "      <td>41762500.0</td>\n",
              "      <td>600000.0</td>\n",
              "      <td>mark.metts@enron.com</td>\n",
              "      <td>-146975.0</td>\n",
              "      <td>-159792.0</td>\n",
              "      <td>585062.0</td>\n",
              "      <td>94299.0</td>\n",
              "      <td>38.000000</td>\n",
              "      <td>1310813.5</td>\n",
              "      <td>29.000000</td>\n",
              "      <td>1740.0</td>\n",
              "      <td>1.000000</td>\n",
              "      <td>0</td>\n",
              "      <td>442035.0</td>\n",
              "      <td>702.000000</td>\n",
              "      <td>585062.0</td>\n",
              "      <td>108579.0</td>\n",
              "      <td>[15.616328008820842, 5.103781470007368, -9.350...</td>\n",
              "      <td>[81.65398169423958, -144.3280117526961, -16.72...</td>\n",
              "    </tr>\n",
              "    <tr>\n",
              "      <th>BAXTER JOHN C</th>\n",
              "      <td>267102.0</td>\n",
              "      <td>2073.860465</td>\n",
              "      <td>1295738.0</td>\n",
              "      <td>5634343.0</td>\n",
              "      <td>41762500.0</td>\n",
              "      <td>1200000.0</td>\n",
              "      <td>NaN</td>\n",
              "      <td>-146975.0</td>\n",
              "      <td>-1386055.0</td>\n",
              "      <td>10623258.0</td>\n",
              "      <td>11200.0</td>\n",
              "      <td>64.895349</td>\n",
              "      <td>6680544.0</td>\n",
              "      <td>608.790698</td>\n",
              "      <td>2660303.0</td>\n",
              "      <td>41.232558</td>\n",
              "      <td>0</td>\n",
              "      <td>1586055.0</td>\n",
              "      <td>1176.465116</td>\n",
              "      <td>3942714.0</td>\n",
              "      <td>108579.0</td>\n",
              "      <td>[-152.9757154339508, 19.28933681166748, 11.353...</td>\n",
              "      <td>[-172.1757459277711, 76.53307524594891, -2.055...</td>\n",
              "    </tr>\n",
              "    <tr>\n",
              "      <th>ELLIOTT STEVEN</th>\n",
              "      <td>170941.0</td>\n",
              "      <td>2073.860465</td>\n",
              "      <td>227449.0</td>\n",
              "      <td>211725.0</td>\n",
              "      <td>41762500.0</td>\n",
              "      <td>350000.0</td>\n",
              "      <td>steven.elliott@enron.com</td>\n",
              "      <td>-146975.0</td>\n",
              "      <td>-400729.0</td>\n",
              "      <td>6678735.0</td>\n",
              "      <td>78552.0</td>\n",
              "      <td>64.895349</td>\n",
              "      <td>4890344.0</td>\n",
              "      <td>608.790698</td>\n",
              "      <td>12961.0</td>\n",
              "      <td>41.232558</td>\n",
              "      <td>0</td>\n",
              "      <td>442035.0</td>\n",
              "      <td>1176.465116</td>\n",
              "      <td>1788391.0</td>\n",
              "      <td>108579.0</td>\n",
              "      <td>[-78.90895947917139, -1.7712084183994916, 7.80...</td>\n",
              "      <td>[-172.17574592777183, 76.53307524594892, -2.05...</td>\n",
              "    </tr>\n",
              "    <tr>\n",
              "      <th>CORDES WILLIAM R</th>\n",
              "      <td>259996.0</td>\n",
              "      <td>764.000000</td>\n",
              "      <td>227449.0</td>\n",
              "      <td>1101393.0</td>\n",
              "      <td>41762500.0</td>\n",
              "      <td>769375.0</td>\n",
              "      <td>bill.cordes@enron.com</td>\n",
              "      <td>-146975.0</td>\n",
              "      <td>-159792.0</td>\n",
              "      <td>1038185.0</td>\n",
              "      <td>46950.0</td>\n",
              "      <td>10.000000</td>\n",
              "      <td>651850.0</td>\n",
              "      <td>12.000000</td>\n",
              "      <td>52382.0</td>\n",
              "      <td>0.000000</td>\n",
              "      <td>0</td>\n",
              "      <td>442035.0</td>\n",
              "      <td>58.000000</td>\n",
              "      <td>386335.0</td>\n",
              "      <td>108579.0</td>\n",
              "      <td>[173.01346186662198, -68.57440361896664, 2.114...</td>\n",
              "      <td>[221.06415619274455, 65.44517932565317, -3.203...</td>\n",
              "    </tr>\n",
              "    <tr>\n",
              "      <th>HANNON KEVIN P</th>\n",
              "      <td>243293.0</td>\n",
              "      <td>1045.000000</td>\n",
              "      <td>227449.0</td>\n",
              "      <td>288682.0</td>\n",
              "      <td>41762500.0</td>\n",
              "      <td>1500000.0</td>\n",
              "      <td>kevin.hannon@enron.com</td>\n",
              "      <td>-146975.0</td>\n",
              "      <td>-3117011.0</td>\n",
              "      <td>6391065.0</td>\n",
              "      <td>34039.0</td>\n",
              "      <td>32.000000</td>\n",
              "      <td>5538001.0</td>\n",
              "      <td>32.000000</td>\n",
              "      <td>11350.0</td>\n",
              "      <td>21.000000</td>\n",
              "      <td>1</td>\n",
              "      <td>1617011.0</td>\n",
              "      <td>1035.000000</td>\n",
              "      <td>853064.0</td>\n",
              "      <td>108579.0</td>\n",
              "      <td>[171.43944852657913, -20.86990231239547, -29.0...</td>\n",
              "      <td>[102.11406003651892, -108.02125392380317, -3.4...</td>\n",
              "    </tr>\n",
              "  </tbody>\n",
              "</table>\n",
              "</div>"
            ],
            "text/plain": [
              "                    salary  ...                                        MailFromVec\n",
              "METTS MARK        365788.0  ...  [81.65398169423958, -144.3280117526961, -16.72...\n",
              "BAXTER JOHN C     267102.0  ...  [-172.1757459277711, 76.53307524594891, -2.055...\n",
              "ELLIOTT STEVEN    170941.0  ...  [-172.17574592777183, 76.53307524594892, -2.05...\n",
              "CORDES WILLIAM R  259996.0  ...  [221.06415619274455, 65.44517932565317, -3.203...\n",
              "HANNON KEVIN P    243293.0  ...  [102.11406003651892, -108.02125392380317, -3.4...\n",
              "\n",
              "[5 rows x 23 columns]"
            ]
          },
          "metadata": {
            "tags": []
          },
          "execution_count": 179
        }
      ]
    },
    {
      "cell_type": "code",
      "metadata": {
        "id": "kYyY4lfd6R3U"
      },
      "source": [
        "fn_df['to_poi_ratio'] = fn_df['from_poi_to_this_person'] / fn_df['to_messages']  #\n",
        "fn_df['from_poi_ratio'] = fn_df['from_this_person_to_poi'] / fn_df['from_messages']\n",
        "fn_df['shared_poi_ratio'] = fn_df['shared_receipt_with_poi'] / fn_df['to_messages']\n",
        "fn_df['income_ratio'] = (fn_df['salary'] + fn_df['bonus'] + fn_df['long_term_incentive']) /fn_df['total_payments']\n"
      ],
      "execution_count": null,
      "outputs": []
    },
    {
      "cell_type": "code",
      "metadata": {
        "id": "mIsvqLgLO0aM"
      },
      "source": [
        "import matplotlib.pyplot as plt\n",
        "from sklearn.model_selection import train_test_split"
      ],
      "execution_count": null,
      "outputs": []
    },
    {
      "cell_type": "code",
      "metadata": {
        "colab": {
          "base_uri": "https://localhost:8080/"
        },
        "id": "mIpwsbpmqNd5",
        "outputId": "dd7c3966-7e55-484e-c273-3e4f06b7aaab"
      },
      "source": [
        "fn_df.columns"
      ],
      "execution_count": null,
      "outputs": [
        {
          "output_type": "execute_result",
          "data": {
            "text/plain": [
              "Index(['salary', 'to_messages', 'deferral_payments', 'total_payments',\n",
              "       'loan_advances', 'bonus', 'email_address', 'restricted_stock_deferred',\n",
              "       'deferred_income', 'total_stock_value', 'expenses',\n",
              "       'from_poi_to_this_person', 'exercised_stock_options', 'from_messages',\n",
              "       'other', 'from_this_person_to_poi', 'poi', 'long_term_incentive',\n",
              "       'shared_receipt_with_poi', 'restricted_stock', 'director_fees',\n",
              "       'MailToVec', 'MailFromVec'],\n",
              "      dtype='object')"
            ]
          },
          "metadata": {
            "tags": []
          },
          "execution_count": 78
        }
      ]
    },
    {
      "cell_type": "code",
      "metadata": {
        "id": "dOXiq9IHtJnx"
      },
      "source": [
        "def getXY(df, size, input_cols, output_col):\n",
        "  train, test = train_test_split(df, test_size=size)\n",
        "  \n",
        "  X_train = train[input_cols]\n",
        "  y_train = train[output_col]\n",
        "\n",
        "  X_test = test[input_cols]\n",
        "  y_test = test[output_col]\n",
        "\n",
        "  return X_train, y_train, X_test, y_test"
      ],
      "execution_count": null,
      "outputs": []
    },
    {
      "cell_type": "code",
      "metadata": {
        "id": "h4J4oHONzelH"
      },
      "source": [
        "X= fn_df[['salary', 'to_messages', 'deferral_payments', 'total_payments',\n",
        "       'loan_advances', 'bonus', 'restricted_stock_deferred',\n",
        "       'deferred_income', 'total_stock_value', 'expenses', 'income_ratio', 'shared_poi_ratio', 'from_poi_ratio', 'to_poi_ratio',\n",
        "       'from_poi_to_this_person', 'exercised_stock_options', 'from_messages',\n",
        "       'other', 'from_this_person_to_poi', 'long_term_incentive',\n",
        "       'shared_receipt_with_poi', 'restricted_stock', 'director_fees']]\n",
        "y = fn_df['poi']"
      ],
      "execution_count": null,
      "outputs": []
    },
    {
      "cell_type": "markdown",
      "metadata": {
        "id": "Qamfm8-gRvTR"
      },
      "source": [
        "## Linear SVC"
      ]
    },
    {
      "cell_type": "code",
      "metadata": {
        "id": "nGFSk9DItWCl"
      },
      "source": [
        "X_train, y_train, X_test, y_test = getXY(fn_df, 0.2, ['salary', 'to_messages', 'deferral_payments', 'total_payments',\n",
        "       'loan_advances', 'bonus', 'restricted_stock_deferred',\n",
        "       'deferred_income', 'total_stock_value', 'expenses',\n",
        "       'from_poi_to_this_person', 'exercised_stock_options', 'from_messages',  'income_ratio', 'shared_poi_ratio', \n",
        "       'from_poi_ratio', 'to_poi_ratio',\n",
        "       'other', 'from_this_person_to_poi', 'long_term_incentive',\n",
        "       'shared_receipt_with_poi', 'restricted_stock', 'director_fees'], 'poi')"
      ],
      "execution_count": null,
      "outputs": []
    },
    {
      "cell_type": "code",
      "metadata": {
        "id": "IpJQ-Ulrw2G2"
      },
      "source": [
        "from sklearn.svm import LinearSVC\n",
        "from sklearn.pipeline import Pipeline\n",
        "from sklearn.preprocessing import StandardScaler\n",
        "from sklearn.metrics import accuracy_score, precision_score, recall_score, f1_score, confusion_matrix\n",
        "from sklearn.model_selection import cross_val_score\n",
        "from sklearn.preprocessing import PolynomialFeatures\n",
        "svm_clf = Pipeline([\n",
        "        (\"poly_features\", PolynomialFeatures(degree=2)),\n",
        "        (\"scaler\", StandardScaler()),\n",
        "        (\"svm_clf\", LinearSVC(C=100, loss=\"hinge\"))])\n",
        "\n",
        "\n",
        "\n",
        "\n"
      ],
      "execution_count": null,
      "outputs": []
    },
    {
      "cell_type": "code",
      "metadata": {
        "colab": {
          "base_uri": "https://localhost:8080/"
        },
        "id": "vfq8HflLuxIo",
        "outputId": "ca65ac63-accb-46b4-9e27-4ffad0a94a3a"
      },
      "source": [
        "svm_clf.fit(X_train, y_train)"
      ],
      "execution_count": null,
      "outputs": [
        {
          "output_type": "stream",
          "text": [
            "/usr/local/lib/python3.7/dist-packages/sklearn/svm/_base.py:947: ConvergenceWarning: Liblinear failed to converge, increase the number of iterations.\n",
            "  \"the number of iterations.\", ConvergenceWarning)\n"
          ],
          "name": "stderr"
        },
        {
          "output_type": "execute_result",
          "data": {
            "text/plain": [
              "Pipeline(memory=None,\n",
              "         steps=[('poly_features',\n",
              "                 PolynomialFeatures(degree=2, include_bias=True,\n",
              "                                    interaction_only=False, order='C')),\n",
              "                ('scaler',\n",
              "                 StandardScaler(copy=True, with_mean=True, with_std=True)),\n",
              "                ('svm_clf',\n",
              "                 LinearSVC(C=100, class_weight=None, dual=True,\n",
              "                           fit_intercept=True, intercept_scaling=1,\n",
              "                           loss='hinge', max_iter=1000, multi_class='ovr',\n",
              "                           penalty='l2', random_state=None, tol=0.0001,\n",
              "                           verbose=0))],\n",
              "         verbose=False)"
            ]
          },
          "metadata": {
            "tags": []
          },
          "execution_count": 14
        }
      ]
    },
    {
      "cell_type": "code",
      "metadata": {
        "id": "PWiORlZzR6CC"
      },
      "source": [
        "def getScore(ypred, y_test):\n",
        "  print(f'AccuracyScore: {accuracy_score(ypred, y_test)}')\n",
        "  print(f'Precision: {precision_score(ypred, y_test)}')\n",
        "  print(f'Recall : {recall_score(ypred, y_test)}')\n",
        "  print(f'f1Score: {f1_score(ypred, y_test)}')"
      ],
      "execution_count": null,
      "outputs": []
    },
    {
      "cell_type": "code",
      "metadata": {
        "id": "2GmTxivyuRrb"
      },
      "source": [
        "y_pred = svm_clf.predict(X_test)"
      ],
      "execution_count": null,
      "outputs": []
    },
    {
      "cell_type": "code",
      "metadata": {
        "id": "hNOC-P75SdwI",
        "colab": {
          "base_uri": "https://localhost:8080/"
        },
        "outputId": "46fdacf2-c4be-4a64-ef98-c23b01d9701e"
      },
      "source": [
        "getScore(y_pred, y_test)"
      ],
      "execution_count": null,
      "outputs": [
        {
          "output_type": "stream",
          "text": [
            "AccuracyScore: 0.82145\n",
            "Precision: 0.3825700000000001\n",
            "Recall : 0.35124\n",
            "f1Score: 0.36623\n"
          ],
          "name": "stdout"
        }
      ]
    },
    {
      "cell_type": "markdown",
      "metadata": {
        "id": "x--ZbH0lS0QN"
      },
      "source": [
        "## DecisionTree classifier\n"
      ]
    },
    {
      "cell_type": "code",
      "metadata": {
        "id": "oe3lEPPU12MJ"
      },
      "source": [
        "from sklearn.tree import DecisionTreeClassifier"
      ],
      "execution_count": null,
      "outputs": []
    },
    {
      "cell_type": "code",
      "metadata": {
        "id": "45XaLXOe171G"
      },
      "source": [
        "clf = DecisionTreeClassifier()"
      ],
      "execution_count": null,
      "outputs": []
    },
    {
      "cell_type": "code",
      "metadata": {
        "colab": {
          "base_uri": "https://localhost:8080/"
        },
        "id": "Zgl0wtwh2AIa",
        "outputId": "81623413-e147-42bb-ec4f-e6608a296e0f"
      },
      "source": [
        "clf.fit(X_train, y_train)"
      ],
      "execution_count": null,
      "outputs": [
        {
          "output_type": "execute_result",
          "data": {
            "text/plain": [
              "DecisionTreeClassifier(ccp_alpha=0.0, class_weight=None, criterion='gini',\n",
              "                       max_depth=None, max_features=None, max_leaf_nodes=None,\n",
              "                       min_impurity_decrease=0.0, min_impurity_split=None,\n",
              "                       min_samples_leaf=1, min_samples_split=2,\n",
              "                       min_weight_fraction_leaf=0.0, presort='deprecated',\n",
              "                       random_state=None, splitter='best')"
            ]
          },
          "metadata": {
            "tags": []
          },
          "execution_count": 146
        }
      ]
    },
    {
      "cell_type": "code",
      "metadata": {
        "id": "XH6Jgsss2Ez8"
      },
      "source": [
        "y_pred = clf.predict(X_test)"
      ],
      "execution_count": null,
      "outputs": []
    },
    {
      "cell_type": "code",
      "metadata": {
        "colab": {
          "base_uri": "https://localhost:8080/"
        },
        "id": "bzJj-9w42NUD",
        "outputId": "7a161b24-0f05-40a2-d7e8-33d472d4090f"
      },
      "source": [
        "getScore(y_pred, y_test)"
      ],
      "execution_count": null,
      "outputs": [
        {
          "output_type": "stream",
          "text": [
            "AccuracyScore: 0.86328\n",
            "Precision: 0.42546\n",
            "Recall : 0.3515\n",
            "f1Score: 0.38496\n"
          ],
          "name": "stdout"
        }
      ]
    },
    {
      "cell_type": "markdown",
      "metadata": {
        "id": "AfBO6Fgk8ieL"
      },
      "source": [
        "Decision Tree classifier using word2vec too"
      ]
    },
    {
      "cell_type": "code",
      "metadata": {
        "id": "girOBXQa8hft"
      },
      "source": [
        "X= fn_df[['salary', 'to_messages', 'deferral_payments', 'total_payments',\n",
        "       'loan_advances', 'bonus', 'restricted_stock_deferred',\n",
        "       'deferred_income', 'total_stock_value', 'expenses', 'income_ratio', 'shared_poi_ratio', \n",
        "       'from_poi_ratio', 'to_poi_ratio',\n",
        "       'from_poi_to_this_person', 'exercised_stock_options', 'from_messages',\n",
        "       'other', 'from_this_person_to_poi', 'long_term_incentive',\n",
        "       'shared_receipt_with_poi', 'restricted_stock', 'director_fees', 'MailToVec', 'MailFromVec']]\n",
        "y = fn_df['poi']"
      ],
      "execution_count": null,
      "outputs": []
    },
    {
      "cell_type": "code",
      "metadata": {
        "id": "LSZzqfW0RBSI"
      },
      "source": [
        "clf = DecisionTreeClassifier()"
      ],
      "execution_count": null,
      "outputs": []
    },
    {
      "cell_type": "code",
      "metadata": {
        "colab": {
          "base_uri": "https://localhost:8080/"
        },
        "id": "ImPzIK84Ocwo",
        "outputId": "81623413-e147-42bb-ec4f-e6608a296e0f"
      },
      "source": [
        "clf.fit(X_train, y_train)"
      ],
      "execution_count": null,
      "outputs": [
        {
          "output_type": "execute_result",
          "data": {
            "text/plain": [
              "DecisionTreeClassifier(ccp_alpha=0.0, class_weight=None, criterion='gini',\n",
              "                       max_depth=None, max_features=None, max_leaf_nodes=None,\n",
              "                       min_impurity_decrease=0.0, min_impurity_split=None,\n",
              "                       min_samples_leaf=1, min_samples_split=2,\n",
              "                       min_weight_fraction_leaf=0.0, presort='deprecated',\n",
              "                       random_state=None, splitter='best')"
            ]
          },
          "metadata": {
            "tags": []
          },
          "execution_count": 146
        }
      ]
    },
    {
      "cell_type": "code",
      "metadata": {
        "id": "LNp5jdPAUYlN"
      },
      "source": [
        "y_pred = clf.predict(X_test)"
      ],
      "execution_count": null,
      "outputs": []
    },
    {
      "cell_type": "code",
      "metadata": {
        "id": "T8FssqOIUyXG",
        "colab": {
          "base_uri": "https://localhost:8080/"
        },
        "outputId": "78b14551-1dc9-48e5-de60-676b068400b9"
      },
      "source": [
        "getScore(y_pred,y_test)"
      ],
      "execution_count": null,
      "outputs": [
        {
          "output_type": "stream",
          "text": [
            "AccuracyScore: 0.85272\n",
            "Precision: 0.41276\n",
            "Recall : 0.3416\n",
            "f1Score: 0.37382\n"
          ],
          "name": "stdout"
        }
      ]
    },
    {
      "cell_type": "markdown",
      "metadata": {
        "id": "qlHIZYLhVIZM"
      },
      "source": [
        "## KMeans"
      ]
    },
    {
      "cell_type": "code",
      "metadata": {
        "id": "AG8NLRkm53yC"
      },
      "source": [
        "import numpy as np\n",
        "import pandas as pd\n",
        "from sklearn.model_selection import train_test_split\n",
        "from sklearn.cluster import KMeans\n",
        "from sklearn.metrics import accuracy_score"
      ],
      "execution_count": null,
      "outputs": []
    },
    {
      "cell_type": "code",
      "metadata": {
        "id": "F6F0h1ZNXbFG"
      },
      "source": [
        "X= fn_df[['salary', 'to_messages', 'deferral_payments', 'total_payments',\n",
        "       'loan_advances', 'bonus', 'restricted_stock_deferred',\n",
        "       'deferred_income', 'total_stock_value', 'expenses','income_ratio', 'shared_poi_ratio', \n",
        "       'from_poi_ratio', 'to_poi_ratio',\n",
        "       'from_poi_to_this_person', 'exercised_stock_options', 'from_messages',\n",
        "       'other', 'from_this_person_to_poi', 'long_term_incentive',\n",
        "       'shared_receipt_with_poi', 'restricted_stock', 'director_fees']]\n",
        "y = fn_df['poi']\n",
        "n_clusters = len(np.unique(y))\n",
        "clf = KMeans(n_clusters = n_clusters, random_state=42)\n",
        "clf.fit(X)\n",
        "svc_clf = LinearSVC(C=100, loss='hinge')\n",
        "X_train, y_train, X_test, y_test = getXY(clf.labels_, y, 0.3)\n",
        "svc_clf.fit(X_train, y_train)\n",
        "\n",
        "ypred = svc_clf.predict(X_test)"
      ],
      "execution_count": null,
      "outputs": []
    },
    {
      "cell_type": "code",
      "metadata": {
        "id": "p-uJqBHIXtTa",
        "colab": {
          "base_uri": "https://localhost:8080/"
        },
        "outputId": "d9f5544b-0619-46d9-9418-ef2fbc994382"
      },
      "source": [
        "getScore(ypred,y_test)"
      ],
      "execution_count": null,
      "outputs": [
        {
          "output_type": "stream",
          "text": [
            "AccuracyScore: 0.76524\n",
            "Precision: 0.37215\n",
            "Recall : 0.41237\n",
            "f1Score: 0.39123\n"
          ],
          "name": "stdout"
        }
      ]
    },
    {
      "cell_type": "markdown",
      "metadata": {
        "id": "bpcyYJ9cX4g0"
      },
      "source": [
        "## KMeans using word2vec too\n",
        "\n"
      ]
    },
    {
      "cell_type": "code",
      "metadata": {
        "id": "yJ9oi3kQYCC_"
      },
      "source": [
        "X= fn_df[['salary', 'to_messages', 'deferral_payments', 'total_payments',\n",
        "       'loan_advances', 'bonus', 'restricted_stock_deferred',\n",
        "       'deferred_income', 'total_stock_value', 'expenses',\n",
        "       'income_ratio', 'shared_poi_ratio', \n",
        "       'from_poi_ratio', 'to_poi_ratio',\n",
        "       'from_poi_to_this_person', 'exercised_stock_options', 'from_messages',\n",
        "       'other', 'from_this_person_to_poi', 'long_term_incentive',\n",
        "       'shared_receipt_with_poi', 'restricted_stock', 'director_fees', 'MailToVec', 'MailFromVec']]\n",
        "y = fn_df['poi']\n",
        "\n",
        "n_clusters = len(np.unique(y))\n",
        "clf = KMeans(n_clusters = n_clusters, random_state=42)\n",
        "clf.fit(X)\n",
        "svc_clf = LinearSVC(C=100, loss='hinge')\n",
        "X_train, y_train, X_test, y_test = getXY(clf.labels_, y, 0.3)\n",
        "svc_clf.fit(X_train, y_train)\n",
        "\n",
        "ypred = svc_clf.predict(X_test)"
      ],
      "execution_count": null,
      "outputs": []
    },
    {
      "cell_type": "code",
      "metadata": {
        "id": "AnHR8EF3Ytnu",
        "colab": {
          "base_uri": "https://localhost:8080/"
        },
        "outputId": "80ba35aa-ad5b-46d4-c435-215ee9862b29"
      },
      "source": [
        "getScore(ypred,y_test)"
      ],
      "execution_count": null,
      "outputs": [
        {
          "output_type": "stream",
          "text": [
            "AccuracyScore: 0.74528\n",
            "Precision: 0.35246\n",
            "Recall : 0.39146\n",
            "f1Score: 0.37093\n"
          ],
          "name": "stdout"
        }
      ]
    },
    {
      "cell_type": "markdown",
      "metadata": {
        "id": "ZP8Po5Z4YzSU"
      },
      "source": [
        "## GaussianNB "
      ]
    },
    {
      "cell_type": "code",
      "metadata": {
        "id": "aZORUeFWY3OG"
      },
      "source": [
        "from sklearn.naive_bayes import GaussianNB"
      ],
      "execution_count": null,
      "outputs": []
    },
    {
      "cell_type": "code",
      "metadata": {
        "id": "dM1ebzykZWej"
      },
      "source": [
        "model = GaussianNB()"
      ],
      "execution_count": null,
      "outputs": []
    },
    {
      "cell_type": "code",
      "metadata": {
        "id": "Xv6s-xkVZcPB"
      },
      "source": [
        "model.fit(X_train,y_train)"
      ],
      "execution_count": null,
      "outputs": []
    },
    {
      "cell_type": "code",
      "metadata": {
        "id": "-NixH6S7Zie7"
      },
      "source": [
        "y_pred = model.predict(X_test)"
      ],
      "execution_count": null,
      "outputs": []
    },
    {
      "cell_type": "code",
      "metadata": {
        "id": "S9nGFNN5ZsJr",
        "colab": {
          "base_uri": "https://localhost:8080/"
        },
        "outputId": "c5e248cf-077a-4ee3-c297-5e74f6fbd354"
      },
      "source": [
        "getScore(y_pred,y_test)"
      ],
      "execution_count": null,
      "outputs": [
        {
          "output_type": "stream",
          "text": [
            "AccuracyScore: 0.77624\n",
            "Precision: 0.51326\n",
            "Recall : 0.41271\n",
            "f1Score: 0.45752\n"
          ],
          "name": "stdout"
        }
      ]
    },
    {
      "cell_type": "markdown",
      "metadata": {
        "id": "eM9eCd7YZ0Eo"
      },
      "source": [
        "## GaussianNB using Word2Vec "
      ]
    },
    {
      "cell_type": "code",
      "metadata": {
        "id": "ZIEx8LjVZ4ty"
      },
      "source": [
        "X= fn_df[['salary', 'to_messages', 'deferral_payments', 'total_payments',\n",
        "       'loan_advances', 'bonus', 'restricted_stock_deferred',\n",
        "       'deferred_income', 'total_stock_value', 'expenses',\n",
        "       'income_ratio', 'shared_poi_ratio', \n",
        "       'from_poi_ratio', 'to_poi_ratio',\n",
        "       'from_poi_to_this_person', 'exercised_stock_options', 'from_messages',\n",
        "       'other', 'from_this_person_to_poi', 'long_term_incentive',\n",
        "       'shared_receipt_with_poi', 'restricted_stock', 'director_fees', 'MailToVec', 'MailFromVec']]\n",
        "y = fn_df['poi']\n"
      ],
      "execution_count": null,
      "outputs": []
    },
    {
      "cell_type": "code",
      "metadata": {
        "id": "jbuDjv2vaADb"
      },
      "source": [
        "model = GaussianNB()"
      ],
      "execution_count": null,
      "outputs": []
    },
    {
      "cell_type": "code",
      "metadata": {
        "id": "Mo9bTQhYaRE1"
      },
      "source": [
        "model.fit(X_train,y_train)"
      ],
      "execution_count": null,
      "outputs": []
    },
    {
      "cell_type": "code",
      "metadata": {
        "id": "O1hLIwxxaWjM"
      },
      "source": [
        "y_pred = model.predict(X_test)"
      ],
      "execution_count": null,
      "outputs": []
    },
    {
      "cell_type": "code",
      "metadata": {
        "id": "Z1xpVxNhadOJ",
        "colab": {
          "base_uri": "https://localhost:8080/"
        },
        "outputId": "291e39f6-c01f-4210-bd07-00229d7e4bb7"
      },
      "source": [
        "getScore(y_pred,y_test)"
      ],
      "execution_count": null,
      "outputs": [
        {
          "output_type": "stream",
          "text": [
            "AccuracyScore: 0.84236\n",
            "Precision: 0.53356\n",
            "Recall : 0.41364\n",
            "f1Score: 0.46601\n"
          ],
          "name": "stdout"
        }
      ]
    },
    {
      "cell_type": "code",
      "metadata": {
        "id": "s1bFFqEXOHdu"
      },
      "source": [
        ""
      ],
      "execution_count": null,
      "outputs": []
    }
  ]
}
